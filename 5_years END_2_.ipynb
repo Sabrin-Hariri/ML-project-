{
  "cells": [
    {
      "cell_type": "markdown",
      "metadata": {
        "id": "wK6AlXZ9K5Dg"
      },
      "source": [
        "### Import data"
      ]
    },
    {
      "cell_type": "code",
      "source": [
        "from google.colab import drive\n",
        "drive.mount('/content/drive')"
      ],
      "metadata": {
        "colab": {
          "base_uri": "https://localhost:8080/"
        },
        "id": "v1fxmQrbH7AA",
        "outputId": "cc296d2b-58b3-48e2-fa86-2b96fb980e42"
      },
      "execution_count": 2,
      "outputs": [
        {
          "output_type": "stream",
          "name": "stdout",
          "text": [
            "Mounted at /content/drive\n"
          ]
        }
      ]
    },
    {
      "cell_type": "code",
      "execution_count": 3,
      "metadata": {
        "scrolled": true,
        "id": "doZ9Z0NXK5Di",
        "outputId": "b15e28f6-248d-4e1d-d3d8-cbbba9f20963",
        "colab": {
          "base_uri": "https://localhost:8080/",
          "height": 424
        }
      },
      "outputs": [
        {
          "output_type": "execute_result",
          "data": {
            "text/html": [
              "\n",
              "  <div id=\"df-c427d10a-ec6a-480d-9064-5795e0157d5a\">\n",
              "    <div class=\"colab-df-container\">\n",
              "      <div>\n",
              "<style scoped>\n",
              "    .dataframe tbody tr th:only-of-type {\n",
              "        vertical-align: middle;\n",
              "    }\n",
              "\n",
              "    .dataframe tbody tr th {\n",
              "        vertical-align: top;\n",
              "    }\n",
              "\n",
              "    .dataframe thead th {\n",
              "        text-align: right;\n",
              "    }\n",
              "</style>\n",
              "<table border=\"1\" class=\"dataframe\">\n",
              "  <thead>\n",
              "    <tr style=\"text-align: right;\">\n",
              "      <th></th>\n",
              "      <th>Date</th>\n",
              "      <th>Open</th>\n",
              "      <th>High</th>\n",
              "      <th>Low</th>\n",
              "      <th>Close</th>\n",
              "      <th>Volume</th>\n",
              "    </tr>\n",
              "  </thead>\n",
              "  <tbody>\n",
              "    <tr>\n",
              "      <th>0</th>\n",
              "      <td>2017-08-17 04:00:00</td>\n",
              "      <td>4261.48</td>\n",
              "      <td>4349.99</td>\n",
              "      <td>4261.32</td>\n",
              "      <td>4349.99</td>\n",
              "      <td>82.0</td>\n",
              "    </tr>\n",
              "    <tr>\n",
              "      <th>1</th>\n",
              "      <td>2017-08-17 08:00:00</td>\n",
              "      <td>4333.32</td>\n",
              "      <td>4485.39</td>\n",
              "      <td>4333.32</td>\n",
              "      <td>4427.30</td>\n",
              "      <td>64.0</td>\n",
              "    </tr>\n",
              "    <tr>\n",
              "      <th>2</th>\n",
              "      <td>2017-08-17 12:00:00</td>\n",
              "      <td>4436.06</td>\n",
              "      <td>4485.39</td>\n",
              "      <td>4333.42</td>\n",
              "      <td>4352.34</td>\n",
              "      <td>175.0</td>\n",
              "    </tr>\n",
              "    <tr>\n",
              "      <th>3</th>\n",
              "      <td>2017-08-17 16:00:00</td>\n",
              "      <td>4352.33</td>\n",
              "      <td>4354.84</td>\n",
              "      <td>4200.74</td>\n",
              "      <td>4325.23</td>\n",
              "      <td>225.0</td>\n",
              "    </tr>\n",
              "    <tr>\n",
              "      <th>4</th>\n",
              "      <td>2017-08-17 20:00:00</td>\n",
              "      <td>4307.56</td>\n",
              "      <td>4369.69</td>\n",
              "      <td>4258.56</td>\n",
              "      <td>4285.08</td>\n",
              "      <td>250.0</td>\n",
              "    </tr>\n",
              "    <tr>\n",
              "      <th>...</th>\n",
              "      <td>...</td>\n",
              "      <td>...</td>\n",
              "      <td>...</td>\n",
              "      <td>...</td>\n",
              "      <td>...</td>\n",
              "      <td>...</td>\n",
              "    </tr>\n",
              "    <tr>\n",
              "      <th>9418</th>\n",
              "      <td>2021-12-06 16:00:00</td>\n",
              "      <td>48942.67</td>\n",
              "      <td>49366.00</td>\n",
              "      <td>48653.05</td>\n",
              "      <td>49103.00</td>\n",
              "      <td>7912.0</td>\n",
              "    </tr>\n",
              "    <tr>\n",
              "      <th>9419</th>\n",
              "      <td>2021-12-06 20:00:00</td>\n",
              "      <td>49103.00</td>\n",
              "      <td>50891.11</td>\n",
              "      <td>48760.00</td>\n",
              "      <td>50441.92</td>\n",
              "      <td>9500.0</td>\n",
              "    </tr>\n",
              "    <tr>\n",
              "      <th>9420</th>\n",
              "      <td>2021-12-07 00:00:00</td>\n",
              "      <td>50441.91</td>\n",
              "      <td>51430.00</td>\n",
              "      <td>50332.62</td>\n",
              "      <td>50945.03</td>\n",
              "      <td>6585.0</td>\n",
              "    </tr>\n",
              "    <tr>\n",
              "      <th>9421</th>\n",
              "      <td>2021-12-07 04:00:00</td>\n",
              "      <td>50945.02</td>\n",
              "      <td>51335.16</td>\n",
              "      <td>50797.86</td>\n",
              "      <td>50907.27</td>\n",
              "      <td>4802.0</td>\n",
              "    </tr>\n",
              "    <tr>\n",
              "      <th>9422</th>\n",
              "      <td>2021-12-07 08:00:00</td>\n",
              "      <td>50907.27</td>\n",
              "      <td>51066.86</td>\n",
              "      <td>50810.03</td>\n",
              "      <td>51040.65</td>\n",
              "      <td>462.0</td>\n",
              "    </tr>\n",
              "  </tbody>\n",
              "</table>\n",
              "<p>9423 rows × 6 columns</p>\n",
              "</div>\n",
              "      <button class=\"colab-df-convert\" onclick=\"convertToInteractive('df-c427d10a-ec6a-480d-9064-5795e0157d5a')\"\n",
              "              title=\"Convert this dataframe to an interactive table.\"\n",
              "              style=\"display:none;\">\n",
              "        \n",
              "  <svg xmlns=\"http://www.w3.org/2000/svg\" height=\"24px\"viewBox=\"0 0 24 24\"\n",
              "       width=\"24px\">\n",
              "    <path d=\"M0 0h24v24H0V0z\" fill=\"none\"/>\n",
              "    <path d=\"M18.56 5.44l.94 2.06.94-2.06 2.06-.94-2.06-.94-.94-2.06-.94 2.06-2.06.94zm-11 1L8.5 8.5l.94-2.06 2.06-.94-2.06-.94L8.5 2.5l-.94 2.06-2.06.94zm10 10l.94 2.06.94-2.06 2.06-.94-2.06-.94-.94-2.06-.94 2.06-2.06.94z\"/><path d=\"M17.41 7.96l-1.37-1.37c-.4-.4-.92-.59-1.43-.59-.52 0-1.04.2-1.43.59L10.3 9.45l-7.72 7.72c-.78.78-.78 2.05 0 2.83L4 21.41c.39.39.9.59 1.41.59.51 0 1.02-.2 1.41-.59l7.78-7.78 2.81-2.81c.8-.78.8-2.07 0-2.86zM5.41 20L4 18.59l7.72-7.72 1.47 1.35L5.41 20z\"/>\n",
              "  </svg>\n",
              "      </button>\n",
              "      \n",
              "  <style>\n",
              "    .colab-df-container {\n",
              "      display:flex;\n",
              "      flex-wrap:wrap;\n",
              "      gap: 12px;\n",
              "    }\n",
              "\n",
              "    .colab-df-convert {\n",
              "      background-color: #E8F0FE;\n",
              "      border: none;\n",
              "      border-radius: 50%;\n",
              "      cursor: pointer;\n",
              "      display: none;\n",
              "      fill: #1967D2;\n",
              "      height: 32px;\n",
              "      padding: 0 0 0 0;\n",
              "      width: 32px;\n",
              "    }\n",
              "\n",
              "    .colab-df-convert:hover {\n",
              "      background-color: #E2EBFA;\n",
              "      box-shadow: 0px 1px 2px rgba(60, 64, 67, 0.3), 0px 1px 3px 1px rgba(60, 64, 67, 0.15);\n",
              "      fill: #174EA6;\n",
              "    }\n",
              "\n",
              "    [theme=dark] .colab-df-convert {\n",
              "      background-color: #3B4455;\n",
              "      fill: #D2E3FC;\n",
              "    }\n",
              "\n",
              "    [theme=dark] .colab-df-convert:hover {\n",
              "      background-color: #434B5C;\n",
              "      box-shadow: 0px 1px 3px 1px rgba(0, 0, 0, 0.15);\n",
              "      filter: drop-shadow(0px 1px 2px rgba(0, 0, 0, 0.3));\n",
              "      fill: #FFFFFF;\n",
              "    }\n",
              "  </style>\n",
              "\n",
              "      <script>\n",
              "        const buttonEl =\n",
              "          document.querySelector('#df-c427d10a-ec6a-480d-9064-5795e0157d5a button.colab-df-convert');\n",
              "        buttonEl.style.display =\n",
              "          google.colab.kernel.accessAllowed ? 'block' : 'none';\n",
              "\n",
              "        async function convertToInteractive(key) {\n",
              "          const element = document.querySelector('#df-c427d10a-ec6a-480d-9064-5795e0157d5a');\n",
              "          const dataTable =\n",
              "            await google.colab.kernel.invokeFunction('convertToInteractive',\n",
              "                                                     [key], {});\n",
              "          if (!dataTable) return;\n",
              "\n",
              "          const docLinkHtml = 'Like what you see? Visit the ' +\n",
              "            '<a target=\"_blank\" href=https://colab.research.google.com/notebooks/data_table.ipynb>data table notebook</a>'\n",
              "            + ' to learn more about interactive tables.';\n",
              "          element.innerHTML = '';\n",
              "          dataTable['output_type'] = 'display_data';\n",
              "          await google.colab.output.renderOutput(dataTable, element);\n",
              "          const docLink = document.createElement('div');\n",
              "          docLink.innerHTML = docLinkHtml;\n",
              "          element.appendChild(docLink);\n",
              "        }\n",
              "      </script>\n",
              "    </div>\n",
              "  </div>\n",
              "  "
            ],
            "text/plain": [
              "                     Date      Open      High       Low     Close  Volume\n",
              "0     2017-08-17 04:00:00   4261.48   4349.99   4261.32   4349.99    82.0\n",
              "1     2017-08-17 08:00:00   4333.32   4485.39   4333.32   4427.30    64.0\n",
              "2     2017-08-17 12:00:00   4436.06   4485.39   4333.42   4352.34   175.0\n",
              "3     2017-08-17 16:00:00   4352.33   4354.84   4200.74   4325.23   225.0\n",
              "4     2017-08-17 20:00:00   4307.56   4369.69   4258.56   4285.08   250.0\n",
              "...                   ...       ...       ...       ...       ...     ...\n",
              "9418  2021-12-06 16:00:00  48942.67  49366.00  48653.05  49103.00  7912.0\n",
              "9419  2021-12-06 20:00:00  49103.00  50891.11  48760.00  50441.92  9500.0\n",
              "9420  2021-12-07 00:00:00  50441.91  51430.00  50332.62  50945.03  6585.0\n",
              "9421  2021-12-07 04:00:00  50945.02  51335.16  50797.86  50907.27  4802.0\n",
              "9422  2021-12-07 08:00:00  50907.27  51066.86  50810.03  51040.65   462.0\n",
              "\n",
              "[9423 rows x 6 columns]"
            ]
          },
          "metadata": {},
          "execution_count": 3
        }
      ],
      "source": [
        "import pandas as pd\n",
        "import numpy as np\n",
        "df= pd.read_csv('/content/drive/MyDrive/نسخة من BTCUSDT10years.csv')\n",
        "#test = pd.read_csv('BTCUSDT (3).csv')\n",
        "import matplotlib.pyplot as plt\n",
        "\n",
        "%matplotlib inline\n",
        "df"
      ]
    },
    {
      "cell_type": "markdown",
      "metadata": {
        "id": "2JIhI3IoK5Dm"
      },
      "source": [
        "### Preprocess data"
      ]
    },
    {
      "cell_type": "code",
      "execution_count": 4,
      "metadata": {
        "id": "8jyRVUHGK5Dn"
      },
      "outputs": [],
      "source": [
        "df = pd.concat([df.drop('Date', axis = 1), \n",
        "          (df.Date.str.split(\"-\").str[:3].apply(pd.Series)\n",
        "          .rename(columns={0:'year', 1:'month', 2:'day'}))], axis = 1)"
      ]
    },
    {
      "cell_type": "code",
      "execution_count": 5,
      "metadata": {
        "id": "9yPmAEvbK5Do"
      },
      "outputs": [],
      "source": [
        "df = pd.concat([df.drop('day', axis = 1), \n",
        "          (df.day.str.split(\" \").str[:2].apply(pd.Series)\n",
        "          .rename(columns={0:'day', 1:'hours'}))], axis = 1)\n"
      ]
    },
    {
      "cell_type": "code",
      "execution_count": 6,
      "metadata": {
        "id": "esIsbe1KK5Do",
        "outputId": "cd879abd-84ca-4125-bb98-100a0f4a237d",
        "colab": {
          "base_uri": "https://localhost:8080/"
        }
      },
      "outputs": [
        {
          "output_type": "stream",
          "name": "stdout",
          "text": [
            "<class 'pandas.core.frame.DataFrame'>\n",
            "RangeIndex: 9423 entries, 0 to 9422\n",
            "Data columns (total 9 columns):\n",
            " #   Column  Non-Null Count  Dtype  \n",
            "---  ------  --------------  -----  \n",
            " 0   Open    9423 non-null   float64\n",
            " 1   High    9423 non-null   float64\n",
            " 2   Low     9423 non-null   float64\n",
            " 3   Close   9423 non-null   float64\n",
            " 4   Volume  9423 non-null   float64\n",
            " 5   year    9423 non-null   float64\n",
            " 6   month   9423 non-null   float64\n",
            " 7   day     9423 non-null   float64\n",
            " 8   hours   9423 non-null   object \n",
            "dtypes: float64(8), object(1)\n",
            "memory usage: 662.7+ KB\n"
          ]
        }
      ],
      "source": [
        "\n",
        "df['year']=df['year'].astype(float)\n",
        "df['month']=df['month'].astype(float)\n",
        "df['day']=df['day'].astype(float)\n",
        "#df['hours']=df['hours'].astype(float)\n",
        "\n",
        "df.info()"
      ]
    },
    {
      "cell_type": "code",
      "execution_count": 7,
      "metadata": {
        "id": "QfvYjamPK5Dp"
      },
      "outputs": [],
      "source": [
        "\n",
        "df['hours']=pd.to_datetime(df['hours'])\n",
        "\n",
        "      "
      ]
    },
    {
      "cell_type": "code",
      "execution_count": 8,
      "metadata": {
        "id": "9D1MAWqXK5Dq"
      },
      "outputs": [],
      "source": [
        "df['hours'] = pd.to_numeric(df['hours'])\n"
      ]
    },
    {
      "cell_type": "code",
      "execution_count": 9,
      "metadata": {
        "id": "z63FFCmLK5Dq",
        "outputId": "610bcf3d-eae5-49f8-fdd8-905014159a3a",
        "colab": {
          "base_uri": "https://localhost:8080/"
        }
      },
      "outputs": [
        {
          "output_type": "stream",
          "name": "stdout",
          "text": [
            "<class 'pandas.core.frame.DataFrame'>\n",
            "RangeIndex: 9423 entries, 0 to 9422\n",
            "Data columns (total 9 columns):\n",
            " #   Column  Non-Null Count  Dtype  \n",
            "---  ------  --------------  -----  \n",
            " 0   Open    9423 non-null   float64\n",
            " 1   High    9423 non-null   float64\n",
            " 2   Low     9423 non-null   float64\n",
            " 3   Close   9423 non-null   float64\n",
            " 4   Volume  9423 non-null   float64\n",
            " 5   year    9423 non-null   float64\n",
            " 6   month   9423 non-null   float64\n",
            " 7   day     9423 non-null   float64\n",
            " 8   hours   9423 non-null   int64  \n",
            "dtypes: float64(8), int64(1)\n",
            "memory usage: 662.7 KB\n"
          ]
        }
      ],
      "source": [
        "df.info()     "
      ]
    },
    {
      "cell_type": "code",
      "execution_count": 10,
      "metadata": {
        "id": "z1wOZL84K5Dr",
        "outputId": "d10a5f0d-651f-4f75-bde7-49a332d9a70c",
        "colab": {
          "base_uri": "https://localhost:8080/",
          "height": 488
        }
      },
      "outputs": [
        {
          "output_type": "execute_result",
          "data": {
            "text/html": [
              "\n",
              "  <div id=\"df-15793b3e-44db-48ec-bdd7-9a6da942588c\">\n",
              "    <div class=\"colab-df-container\">\n",
              "      <div>\n",
              "<style scoped>\n",
              "    .dataframe tbody tr th:only-of-type {\n",
              "        vertical-align: middle;\n",
              "    }\n",
              "\n",
              "    .dataframe tbody tr th {\n",
              "        vertical-align: top;\n",
              "    }\n",
              "\n",
              "    .dataframe thead th {\n",
              "        text-align: right;\n",
              "    }\n",
              "</style>\n",
              "<table border=\"1\" class=\"dataframe\">\n",
              "  <thead>\n",
              "    <tr style=\"text-align: right;\">\n",
              "      <th></th>\n",
              "      <th>Open</th>\n",
              "      <th>High</th>\n",
              "      <th>Low</th>\n",
              "      <th>Close</th>\n",
              "      <th>Volume</th>\n",
              "      <th>year</th>\n",
              "      <th>month</th>\n",
              "      <th>day</th>\n",
              "      <th>hours</th>\n",
              "      <th>Open1</th>\n",
              "      <th>High1</th>\n",
              "      <th>Low1</th>\n",
              "      <th>Close1</th>\n",
              "      <th>Volume1</th>\n",
              "      <th>Open2</th>\n",
              "      <th>High2</th>\n",
              "      <th>Low2</th>\n",
              "      <th>Close2</th>\n",
              "      <th>Volume2</th>\n",
              "      <th>Open3</th>\n",
              "      <th>High3</th>\n",
              "      <th>Low3</th>\n",
              "      <th>Close3</th>\n",
              "      <th>Volume3</th>\n",
              "      <th>Open4</th>\n",
              "      <th>High4</th>\n",
              "      <th>Low4</th>\n",
              "      <th>Close4</th>\n",
              "      <th>Volume4</th>\n",
              "    </tr>\n",
              "  </thead>\n",
              "  <tbody>\n",
              "    <tr>\n",
              "      <th>0</th>\n",
              "      <td>4261.48</td>\n",
              "      <td>4349.99</td>\n",
              "      <td>4261.32</td>\n",
              "      <td>4349.99</td>\n",
              "      <td>82.0</td>\n",
              "      <td>2017.0</td>\n",
              "      <td>8.0</td>\n",
              "      <td>17.0</td>\n",
              "      <td>1644292800000000000</td>\n",
              "      <td>4333.32</td>\n",
              "      <td>4485.39</td>\n",
              "      <td>4333.32</td>\n",
              "      <td>4427.30</td>\n",
              "      <td>64.0</td>\n",
              "      <td>4333.32</td>\n",
              "      <td>4485.39</td>\n",
              "      <td>4333.32</td>\n",
              "      <td>4427.30</td>\n",
              "      <td>64.0</td>\n",
              "      <td>4333.32</td>\n",
              "      <td>4485.39</td>\n",
              "      <td>4333.32</td>\n",
              "      <td>4427.30</td>\n",
              "      <td>64.0</td>\n",
              "      <td>4333.32</td>\n",
              "      <td>4485.39</td>\n",
              "      <td>4333.32</td>\n",
              "      <td>4427.30</td>\n",
              "      <td>64.0</td>\n",
              "    </tr>\n",
              "    <tr>\n",
              "      <th>1</th>\n",
              "      <td>4333.32</td>\n",
              "      <td>4485.39</td>\n",
              "      <td>4333.32</td>\n",
              "      <td>4427.30</td>\n",
              "      <td>64.0</td>\n",
              "      <td>2017.0</td>\n",
              "      <td>8.0</td>\n",
              "      <td>17.0</td>\n",
              "      <td>1644307200000000000</td>\n",
              "      <td>4436.06</td>\n",
              "      <td>4485.39</td>\n",
              "      <td>4333.42</td>\n",
              "      <td>4352.34</td>\n",
              "      <td>175.0</td>\n",
              "      <td>4436.06</td>\n",
              "      <td>4485.39</td>\n",
              "      <td>4333.42</td>\n",
              "      <td>4352.34</td>\n",
              "      <td>175.0</td>\n",
              "      <td>4436.06</td>\n",
              "      <td>4485.39</td>\n",
              "      <td>4333.42</td>\n",
              "      <td>4352.34</td>\n",
              "      <td>175.0</td>\n",
              "      <td>4436.06</td>\n",
              "      <td>4485.39</td>\n",
              "      <td>4333.42</td>\n",
              "      <td>4352.34</td>\n",
              "      <td>175.0</td>\n",
              "    </tr>\n",
              "    <tr>\n",
              "      <th>2</th>\n",
              "      <td>4436.06</td>\n",
              "      <td>4485.39</td>\n",
              "      <td>4333.42</td>\n",
              "      <td>4352.34</td>\n",
              "      <td>175.0</td>\n",
              "      <td>2017.0</td>\n",
              "      <td>8.0</td>\n",
              "      <td>17.0</td>\n",
              "      <td>1644321600000000000</td>\n",
              "      <td>4352.33</td>\n",
              "      <td>4354.84</td>\n",
              "      <td>4200.74</td>\n",
              "      <td>4325.23</td>\n",
              "      <td>225.0</td>\n",
              "      <td>4352.33</td>\n",
              "      <td>4354.84</td>\n",
              "      <td>4200.74</td>\n",
              "      <td>4325.23</td>\n",
              "      <td>225.0</td>\n",
              "      <td>4352.33</td>\n",
              "      <td>4354.84</td>\n",
              "      <td>4200.74</td>\n",
              "      <td>4325.23</td>\n",
              "      <td>225.0</td>\n",
              "      <td>4352.33</td>\n",
              "      <td>4354.84</td>\n",
              "      <td>4200.74</td>\n",
              "      <td>4325.23</td>\n",
              "      <td>225.0</td>\n",
              "    </tr>\n",
              "    <tr>\n",
              "      <th>3</th>\n",
              "      <td>4352.33</td>\n",
              "      <td>4354.84</td>\n",
              "      <td>4200.74</td>\n",
              "      <td>4325.23</td>\n",
              "      <td>225.0</td>\n",
              "      <td>2017.0</td>\n",
              "      <td>8.0</td>\n",
              "      <td>17.0</td>\n",
              "      <td>1644336000000000000</td>\n",
              "      <td>4307.56</td>\n",
              "      <td>4369.69</td>\n",
              "      <td>4258.56</td>\n",
              "      <td>4285.08</td>\n",
              "      <td>250.0</td>\n",
              "      <td>4307.56</td>\n",
              "      <td>4369.69</td>\n",
              "      <td>4258.56</td>\n",
              "      <td>4285.08</td>\n",
              "      <td>250.0</td>\n",
              "      <td>4307.56</td>\n",
              "      <td>4369.69</td>\n",
              "      <td>4258.56</td>\n",
              "      <td>4285.08</td>\n",
              "      <td>250.0</td>\n",
              "      <td>4307.56</td>\n",
              "      <td>4369.69</td>\n",
              "      <td>4258.56</td>\n",
              "      <td>4285.08</td>\n",
              "      <td>250.0</td>\n",
              "    </tr>\n",
              "    <tr>\n",
              "      <th>4</th>\n",
              "      <td>4307.56</td>\n",
              "      <td>4369.69</td>\n",
              "      <td>4258.56</td>\n",
              "      <td>4285.08</td>\n",
              "      <td>250.0</td>\n",
              "      <td>2017.0</td>\n",
              "      <td>8.0</td>\n",
              "      <td>17.0</td>\n",
              "      <td>1644350400000000000</td>\n",
              "      <td>4285.08</td>\n",
              "      <td>4340.62</td>\n",
              "      <td>4134.61</td>\n",
              "      <td>4292.39</td>\n",
              "      <td>276.0</td>\n",
              "      <td>4285.08</td>\n",
              "      <td>4340.62</td>\n",
              "      <td>4134.61</td>\n",
              "      <td>4292.39</td>\n",
              "      <td>276.0</td>\n",
              "      <td>4285.08</td>\n",
              "      <td>4340.62</td>\n",
              "      <td>4134.61</td>\n",
              "      <td>4292.39</td>\n",
              "      <td>276.0</td>\n",
              "      <td>4285.08</td>\n",
              "      <td>4340.62</td>\n",
              "      <td>4134.61</td>\n",
              "      <td>4292.39</td>\n",
              "      <td>276.0</td>\n",
              "    </tr>\n",
              "    <tr>\n",
              "      <th>...</th>\n",
              "      <td>...</td>\n",
              "      <td>...</td>\n",
              "      <td>...</td>\n",
              "      <td>...</td>\n",
              "      <td>...</td>\n",
              "      <td>...</td>\n",
              "      <td>...</td>\n",
              "      <td>...</td>\n",
              "      <td>...</td>\n",
              "      <td>...</td>\n",
              "      <td>...</td>\n",
              "      <td>...</td>\n",
              "      <td>...</td>\n",
              "      <td>...</td>\n",
              "      <td>...</td>\n",
              "      <td>...</td>\n",
              "      <td>...</td>\n",
              "      <td>...</td>\n",
              "      <td>...</td>\n",
              "      <td>...</td>\n",
              "      <td>...</td>\n",
              "      <td>...</td>\n",
              "      <td>...</td>\n",
              "      <td>...</td>\n",
              "      <td>...</td>\n",
              "      <td>...</td>\n",
              "      <td>...</td>\n",
              "      <td>...</td>\n",
              "      <td>...</td>\n",
              "    </tr>\n",
              "    <tr>\n",
              "      <th>9418</th>\n",
              "      <td>48942.67</td>\n",
              "      <td>49366.00</td>\n",
              "      <td>48653.05</td>\n",
              "      <td>49103.00</td>\n",
              "      <td>7912.0</td>\n",
              "      <td>2021.0</td>\n",
              "      <td>12.0</td>\n",
              "      <td>6.0</td>\n",
              "      <td>1644336000000000000</td>\n",
              "      <td>49103.00</td>\n",
              "      <td>50891.11</td>\n",
              "      <td>48760.00</td>\n",
              "      <td>50441.92</td>\n",
              "      <td>9500.0</td>\n",
              "      <td>49103.00</td>\n",
              "      <td>50891.11</td>\n",
              "      <td>48760.00</td>\n",
              "      <td>50441.92</td>\n",
              "      <td>9500.0</td>\n",
              "      <td>49103.00</td>\n",
              "      <td>50891.11</td>\n",
              "      <td>48760.00</td>\n",
              "      <td>50441.92</td>\n",
              "      <td>9500.0</td>\n",
              "      <td>49103.00</td>\n",
              "      <td>50891.11</td>\n",
              "      <td>48760.00</td>\n",
              "      <td>50441.92</td>\n",
              "      <td>9500.0</td>\n",
              "    </tr>\n",
              "    <tr>\n",
              "      <th>9419</th>\n",
              "      <td>49103.00</td>\n",
              "      <td>50891.11</td>\n",
              "      <td>48760.00</td>\n",
              "      <td>50441.92</td>\n",
              "      <td>9500.0</td>\n",
              "      <td>2021.0</td>\n",
              "      <td>12.0</td>\n",
              "      <td>6.0</td>\n",
              "      <td>1644350400000000000</td>\n",
              "      <td>50441.91</td>\n",
              "      <td>51430.00</td>\n",
              "      <td>50332.62</td>\n",
              "      <td>50945.03</td>\n",
              "      <td>6585.0</td>\n",
              "      <td>50441.91</td>\n",
              "      <td>51430.00</td>\n",
              "      <td>50332.62</td>\n",
              "      <td>50945.03</td>\n",
              "      <td>6585.0</td>\n",
              "      <td>50441.91</td>\n",
              "      <td>51430.00</td>\n",
              "      <td>50332.62</td>\n",
              "      <td>50945.03</td>\n",
              "      <td>6585.0</td>\n",
              "      <td>50441.91</td>\n",
              "      <td>51430.00</td>\n",
              "      <td>50332.62</td>\n",
              "      <td>50945.03</td>\n",
              "      <td>6585.0</td>\n",
              "    </tr>\n",
              "    <tr>\n",
              "      <th>9420</th>\n",
              "      <td>50441.91</td>\n",
              "      <td>51430.00</td>\n",
              "      <td>50332.62</td>\n",
              "      <td>50945.03</td>\n",
              "      <td>6585.0</td>\n",
              "      <td>2021.0</td>\n",
              "      <td>12.0</td>\n",
              "      <td>7.0</td>\n",
              "      <td>1644278400000000000</td>\n",
              "      <td>50945.02</td>\n",
              "      <td>51335.16</td>\n",
              "      <td>50797.86</td>\n",
              "      <td>50907.27</td>\n",
              "      <td>4802.0</td>\n",
              "      <td>50945.02</td>\n",
              "      <td>51335.16</td>\n",
              "      <td>50797.86</td>\n",
              "      <td>50907.27</td>\n",
              "      <td>4802.0</td>\n",
              "      <td>50945.02</td>\n",
              "      <td>51335.16</td>\n",
              "      <td>50797.86</td>\n",
              "      <td>50907.27</td>\n",
              "      <td>4802.0</td>\n",
              "      <td>50945.02</td>\n",
              "      <td>51335.16</td>\n",
              "      <td>50797.86</td>\n",
              "      <td>50907.27</td>\n",
              "      <td>4802.0</td>\n",
              "    </tr>\n",
              "    <tr>\n",
              "      <th>9421</th>\n",
              "      <td>50945.02</td>\n",
              "      <td>51335.16</td>\n",
              "      <td>50797.86</td>\n",
              "      <td>50907.27</td>\n",
              "      <td>4802.0</td>\n",
              "      <td>2021.0</td>\n",
              "      <td>12.0</td>\n",
              "      <td>7.0</td>\n",
              "      <td>1644292800000000000</td>\n",
              "      <td>50907.27</td>\n",
              "      <td>51066.86</td>\n",
              "      <td>50810.03</td>\n",
              "      <td>51040.65</td>\n",
              "      <td>462.0</td>\n",
              "      <td>50907.27</td>\n",
              "      <td>51066.86</td>\n",
              "      <td>50810.03</td>\n",
              "      <td>51040.65</td>\n",
              "      <td>462.0</td>\n",
              "      <td>50907.27</td>\n",
              "      <td>51066.86</td>\n",
              "      <td>50810.03</td>\n",
              "      <td>51040.65</td>\n",
              "      <td>462.0</td>\n",
              "      <td>50907.27</td>\n",
              "      <td>51066.86</td>\n",
              "      <td>50810.03</td>\n",
              "      <td>51040.65</td>\n",
              "      <td>462.0</td>\n",
              "    </tr>\n",
              "    <tr>\n",
              "      <th>9422</th>\n",
              "      <td>50907.27</td>\n",
              "      <td>51066.86</td>\n",
              "      <td>50810.03</td>\n",
              "      <td>51040.65</td>\n",
              "      <td>462.0</td>\n",
              "      <td>2021.0</td>\n",
              "      <td>12.0</td>\n",
              "      <td>7.0</td>\n",
              "      <td>1644307200000000000</td>\n",
              "      <td>NaN</td>\n",
              "      <td>NaN</td>\n",
              "      <td>NaN</td>\n",
              "      <td>NaN</td>\n",
              "      <td>NaN</td>\n",
              "      <td>NaN</td>\n",
              "      <td>NaN</td>\n",
              "      <td>NaN</td>\n",
              "      <td>NaN</td>\n",
              "      <td>NaN</td>\n",
              "      <td>NaN</td>\n",
              "      <td>NaN</td>\n",
              "      <td>NaN</td>\n",
              "      <td>NaN</td>\n",
              "      <td>NaN</td>\n",
              "      <td>NaN</td>\n",
              "      <td>NaN</td>\n",
              "      <td>NaN</td>\n",
              "      <td>NaN</td>\n",
              "      <td>NaN</td>\n",
              "    </tr>\n",
              "  </tbody>\n",
              "</table>\n",
              "<p>9423 rows × 29 columns</p>\n",
              "</div>\n",
              "      <button class=\"colab-df-convert\" onclick=\"convertToInteractive('df-15793b3e-44db-48ec-bdd7-9a6da942588c')\"\n",
              "              title=\"Convert this dataframe to an interactive table.\"\n",
              "              style=\"display:none;\">\n",
              "        \n",
              "  <svg xmlns=\"http://www.w3.org/2000/svg\" height=\"24px\"viewBox=\"0 0 24 24\"\n",
              "       width=\"24px\">\n",
              "    <path d=\"M0 0h24v24H0V0z\" fill=\"none\"/>\n",
              "    <path d=\"M18.56 5.44l.94 2.06.94-2.06 2.06-.94-2.06-.94-.94-2.06-.94 2.06-2.06.94zm-11 1L8.5 8.5l.94-2.06 2.06-.94-2.06-.94L8.5 2.5l-.94 2.06-2.06.94zm10 10l.94 2.06.94-2.06 2.06-.94-2.06-.94-.94-2.06-.94 2.06-2.06.94z\"/><path d=\"M17.41 7.96l-1.37-1.37c-.4-.4-.92-.59-1.43-.59-.52 0-1.04.2-1.43.59L10.3 9.45l-7.72 7.72c-.78.78-.78 2.05 0 2.83L4 21.41c.39.39.9.59 1.41.59.51 0 1.02-.2 1.41-.59l7.78-7.78 2.81-2.81c.8-.78.8-2.07 0-2.86zM5.41 20L4 18.59l7.72-7.72 1.47 1.35L5.41 20z\"/>\n",
              "  </svg>\n",
              "      </button>\n",
              "      \n",
              "  <style>\n",
              "    .colab-df-container {\n",
              "      display:flex;\n",
              "      flex-wrap:wrap;\n",
              "      gap: 12px;\n",
              "    }\n",
              "\n",
              "    .colab-df-convert {\n",
              "      background-color: #E8F0FE;\n",
              "      border: none;\n",
              "      border-radius: 50%;\n",
              "      cursor: pointer;\n",
              "      display: none;\n",
              "      fill: #1967D2;\n",
              "      height: 32px;\n",
              "      padding: 0 0 0 0;\n",
              "      width: 32px;\n",
              "    }\n",
              "\n",
              "    .colab-df-convert:hover {\n",
              "      background-color: #E2EBFA;\n",
              "      box-shadow: 0px 1px 2px rgba(60, 64, 67, 0.3), 0px 1px 3px 1px rgba(60, 64, 67, 0.15);\n",
              "      fill: #174EA6;\n",
              "    }\n",
              "\n",
              "    [theme=dark] .colab-df-convert {\n",
              "      background-color: #3B4455;\n",
              "      fill: #D2E3FC;\n",
              "    }\n",
              "\n",
              "    [theme=dark] .colab-df-convert:hover {\n",
              "      background-color: #434B5C;\n",
              "      box-shadow: 0px 1px 3px 1px rgba(0, 0, 0, 0.15);\n",
              "      filter: drop-shadow(0px 1px 2px rgba(0, 0, 0, 0.3));\n",
              "      fill: #FFFFFF;\n",
              "    }\n",
              "  </style>\n",
              "\n",
              "      <script>\n",
              "        const buttonEl =\n",
              "          document.querySelector('#df-15793b3e-44db-48ec-bdd7-9a6da942588c button.colab-df-convert');\n",
              "        buttonEl.style.display =\n",
              "          google.colab.kernel.accessAllowed ? 'block' : 'none';\n",
              "\n",
              "        async function convertToInteractive(key) {\n",
              "          const element = document.querySelector('#df-15793b3e-44db-48ec-bdd7-9a6da942588c');\n",
              "          const dataTable =\n",
              "            await google.colab.kernel.invokeFunction('convertToInteractive',\n",
              "                                                     [key], {});\n",
              "          if (!dataTable) return;\n",
              "\n",
              "          const docLinkHtml = 'Like what you see? Visit the ' +\n",
              "            '<a target=\"_blank\" href=https://colab.research.google.com/notebooks/data_table.ipynb>data table notebook</a>'\n",
              "            + ' to learn more about interactive tables.';\n",
              "          element.innerHTML = '';\n",
              "          dataTable['output_type'] = 'display_data';\n",
              "          await google.colab.output.renderOutput(dataTable, element);\n",
              "          const docLink = document.createElement('div');\n",
              "          docLink.innerHTML = docLinkHtml;\n",
              "          element.appendChild(docLink);\n",
              "        }\n",
              "      </script>\n",
              "    </div>\n",
              "  </div>\n",
              "  "
            ],
            "text/plain": [
              "          Open      High       Low  ...      Low4    Close4  Volume4\n",
              "0      4261.48   4349.99   4261.32  ...   4333.32   4427.30     64.0\n",
              "1      4333.32   4485.39   4333.32  ...   4333.42   4352.34    175.0\n",
              "2      4436.06   4485.39   4333.42  ...   4200.74   4325.23    225.0\n",
              "3      4352.33   4354.84   4200.74  ...   4258.56   4285.08    250.0\n",
              "4      4307.56   4369.69   4258.56  ...   4134.61   4292.39    276.0\n",
              "...        ...       ...       ...  ...       ...       ...      ...\n",
              "9418  48942.67  49366.00  48653.05  ...  48760.00  50441.92   9500.0\n",
              "9419  49103.00  50891.11  48760.00  ...  50332.62  50945.03   6585.0\n",
              "9420  50441.91  51430.00  50332.62  ...  50797.86  50907.27   4802.0\n",
              "9421  50945.02  51335.16  50797.86  ...  50810.03  51040.65    462.0\n",
              "9422  50907.27  51066.86  50810.03  ...       NaN       NaN      NaN\n",
              "\n",
              "[9423 rows x 29 columns]"
            ]
          },
          "metadata": {},
          "execution_count": 10
        }
      ],
      "source": [
        "\n",
        "# X= df.loc[1:3,['Low' , 'High' 'Clase ' , 'Open', 'Volume' ]]\n",
        "df['Open1'] = df['Open'].shift(-1)\n",
        "df['High1'] = df['High'].shift(-1)\n",
        "df['Low1'] = df['Low'].shift(-1)\n",
        "df['Close1'] = df['Close'].shift(-1)\n",
        "df['Volume1'] = df['Volume'].shift(-1)\n",
        "#######2\n",
        "df['Open2'] = df['Open'].shift(-1)\n",
        "df['High2'] = df['High'].shift(-1)\n",
        "df['Low2'] = df['Low'].shift(-1)\n",
        "df['Close2'] = df['Close'].shift(-1)\n",
        "df['Volume2'] = df['Volume'].shift(-1)\n",
        "#######3\n",
        "df['Open3'] = df['Open'].shift(-1)\n",
        "df['High3'] = df['High'].shift(-1)\n",
        "df['Low3'] = df['Low'].shift(-1)\n",
        "df['Close3'] = df['Close'].shift(-1)\n",
        "df['Volume3'] = df['Volume'].shift(-1)\n",
        "#######4\n",
        "df['Open4'] = df['Open'].shift(-1)\n",
        "df['High4'] = df['High'].shift(-1)\n",
        "df['Low4'] = df['Low'].shift(-1)\n",
        "df['Close4'] = df['Close'].shift(-1)\n",
        "df['Volume4'] = df['Volume'].shift(-1)\n",
        "\n",
        "df"
      ]
    },
    {
      "cell_type": "code",
      "execution_count": 11,
      "metadata": {
        "id": "KSeNL11RK5Ds"
      },
      "outputs": [],
      "source": [
        "    import sklearn\n",
        "    import pandas as pd\n",
        "    from sklearn.impute import SimpleImputer\n",
        "    import numpy as np\n",
        "    from subprocess import check_output\n",
        "    #from sklearn.preprocessing  import Imputer\n",
        "\n",
        "    import seaborn as sns\n",
        "    import matplotlib.pyplot as plt\n",
        "    %matplotlib inline\n",
        "\n",
        "\n",
        "    from sklearn.linear_model import LogisticRegression\n",
        "    from sklearn.svm import SVC, LinearSVC\n",
        "    from sklearn.ensemble import RandomForestClassifier\n",
        "    from sklearn.neighbors import KNeighborsClassifier\n",
        "    from sklearn.naive_bayes import GaussianNB\n",
        "    from sklearn.linear_model import Perceptron\n",
        "    from sklearn.linear_model import SGDClassifier\n",
        "    from sklearn.tree import DecisionTreeClassifier"
      ]
    },
    {
      "cell_type": "code",
      "execution_count": 12,
      "metadata": {
        "id": "vRPhmiRrK5Dt"
      },
      "outputs": [],
      "source": [
        "### Regression \n",
        "#y= df.loc[4 , ['Close' ]]\n",
        "imputer = SimpleImputer(missing_values=np.nan, strategy='mean',verbose=0)\n",
        "df=df\n"
      ]
    },
    {
      "cell_type": "code",
      "execution_count": 13,
      "metadata": {
        "id": "y8Ew80CGK5Du",
        "outputId": "0fc34d10-75cf-48b1-88b1-3d175552b19b",
        "colab": {
          "base_uri": "https://localhost:8080/"
        }
      },
      "outputs": [
        {
          "output_type": "execute_result",
          "data": {
            "text/plain": [
              "Open       0\n",
              "High       0\n",
              "Low        0\n",
              "Close      0\n",
              "Volume     0\n",
              "year       0\n",
              "month      0\n",
              "day        0\n",
              "hours      0\n",
              "Open1      0\n",
              "High1      0\n",
              "Low1       0\n",
              "Close1     0\n",
              "Volume1    0\n",
              "Open2      0\n",
              "High2      0\n",
              "Low2       0\n",
              "Close2     0\n",
              "Volume2    0\n",
              "Open3      0\n",
              "High3      0\n",
              "Low3       0\n",
              "Close3     0\n",
              "Volume3    0\n",
              "Open4      0\n",
              "High4      0\n",
              "Low4       0\n",
              "Close4     0\n",
              "Volume4    0\n",
              "dtype: int64"
            ]
          },
          "metadata": {},
          "execution_count": 13
        }
      ],
      "source": [
        "#soso=df.isnull().sum()\n",
        "#soso\n",
        "imputer = imputer.fit(df.iloc[:,7:29])\n",
        "df.iloc[:,7:29]=imputer.transform(df.iloc[:,7:29])\n",
        "soso=df.isnull().sum() \n",
        "soso"
      ]
    },
    {
      "cell_type": "code",
      "execution_count": 14,
      "metadata": {
        "id": "Z9TCKAI9K5Dv"
      },
      "outputs": [],
      "source": [
        "df=df.drop(['Low4','Open4','High4' , 'Volume4'], axis =1)"
      ]
    },
    {
      "cell_type": "code",
      "execution_count": 15,
      "metadata": {
        "id": "yHfyblvqK5Dv",
        "outputId": "5fe1481f-da67-4341-8b6c-4b9c7281a0d8",
        "colab": {
          "base_uri": "https://localhost:8080/",
          "height": 488
        }
      },
      "outputs": [
        {
          "output_type": "execute_result",
          "data": {
            "text/html": [
              "\n",
              "  <div id=\"df-d4dd81ac-cc22-4027-a246-a03f45919fd0\">\n",
              "    <div class=\"colab-df-container\">\n",
              "      <div>\n",
              "<style scoped>\n",
              "    .dataframe tbody tr th:only-of-type {\n",
              "        vertical-align: middle;\n",
              "    }\n",
              "\n",
              "    .dataframe tbody tr th {\n",
              "        vertical-align: top;\n",
              "    }\n",
              "\n",
              "    .dataframe thead th {\n",
              "        text-align: right;\n",
              "    }\n",
              "</style>\n",
              "<table border=\"1\" class=\"dataframe\">\n",
              "  <thead>\n",
              "    <tr style=\"text-align: right;\">\n",
              "      <th></th>\n",
              "      <th>Open</th>\n",
              "      <th>High</th>\n",
              "      <th>Low</th>\n",
              "      <th>Close</th>\n",
              "      <th>Volume</th>\n",
              "      <th>year</th>\n",
              "      <th>month</th>\n",
              "      <th>day</th>\n",
              "      <th>hours</th>\n",
              "      <th>Open1</th>\n",
              "      <th>High1</th>\n",
              "      <th>Low1</th>\n",
              "      <th>Close1</th>\n",
              "      <th>Volume1</th>\n",
              "      <th>Open2</th>\n",
              "      <th>High2</th>\n",
              "      <th>Low2</th>\n",
              "      <th>Close2</th>\n",
              "      <th>Volume2</th>\n",
              "      <th>Open3</th>\n",
              "      <th>High3</th>\n",
              "      <th>Low3</th>\n",
              "      <th>Close3</th>\n",
              "      <th>Volume3</th>\n",
              "    </tr>\n",
              "  </thead>\n",
              "  <tbody>\n",
              "    <tr>\n",
              "      <th>0</th>\n",
              "      <td>4261.48</td>\n",
              "      <td>4349.99</td>\n",
              "      <td>4261.32</td>\n",
              "      <td>4349.99</td>\n",
              "      <td>82.0</td>\n",
              "      <td>2017.0</td>\n",
              "      <td>8.0</td>\n",
              "      <td>17.0</td>\n",
              "      <td>1.644293e+18</td>\n",
              "      <td>4333.320000</td>\n",
              "      <td>4485.39000</td>\n",
              "      <td>4333.320000</td>\n",
              "      <td>4427.300000</td>\n",
              "      <td>64.000000</td>\n",
              "      <td>4333.320000</td>\n",
              "      <td>4485.39000</td>\n",
              "      <td>4333.320000</td>\n",
              "      <td>4427.300000</td>\n",
              "      <td>64.000000</td>\n",
              "      <td>4333.320000</td>\n",
              "      <td>4485.39000</td>\n",
              "      <td>4333.320000</td>\n",
              "      <td>4427.300000</td>\n",
              "      <td>64.000000</td>\n",
              "    </tr>\n",
              "    <tr>\n",
              "      <th>1</th>\n",
              "      <td>4333.32</td>\n",
              "      <td>4485.39</td>\n",
              "      <td>4333.32</td>\n",
              "      <td>4427.30</td>\n",
              "      <td>64.0</td>\n",
              "      <td>2017.0</td>\n",
              "      <td>8.0</td>\n",
              "      <td>17.0</td>\n",
              "      <td>1.644307e+18</td>\n",
              "      <td>4436.060000</td>\n",
              "      <td>4485.39000</td>\n",
              "      <td>4333.420000</td>\n",
              "      <td>4352.340000</td>\n",
              "      <td>175.000000</td>\n",
              "      <td>4436.060000</td>\n",
              "      <td>4485.39000</td>\n",
              "      <td>4333.420000</td>\n",
              "      <td>4352.340000</td>\n",
              "      <td>175.000000</td>\n",
              "      <td>4436.060000</td>\n",
              "      <td>4485.39000</td>\n",
              "      <td>4333.420000</td>\n",
              "      <td>4352.340000</td>\n",
              "      <td>175.000000</td>\n",
              "    </tr>\n",
              "    <tr>\n",
              "      <th>2</th>\n",
              "      <td>4436.06</td>\n",
              "      <td>4485.39</td>\n",
              "      <td>4333.42</td>\n",
              "      <td>4352.34</td>\n",
              "      <td>175.0</td>\n",
              "      <td>2017.0</td>\n",
              "      <td>8.0</td>\n",
              "      <td>17.0</td>\n",
              "      <td>1.644322e+18</td>\n",
              "      <td>4352.330000</td>\n",
              "      <td>4354.84000</td>\n",
              "      <td>4200.740000</td>\n",
              "      <td>4325.230000</td>\n",
              "      <td>225.000000</td>\n",
              "      <td>4352.330000</td>\n",
              "      <td>4354.84000</td>\n",
              "      <td>4200.740000</td>\n",
              "      <td>4325.230000</td>\n",
              "      <td>225.000000</td>\n",
              "      <td>4352.330000</td>\n",
              "      <td>4354.84000</td>\n",
              "      <td>4200.740000</td>\n",
              "      <td>4325.230000</td>\n",
              "      <td>225.000000</td>\n",
              "    </tr>\n",
              "    <tr>\n",
              "      <th>3</th>\n",
              "      <td>4352.33</td>\n",
              "      <td>4354.84</td>\n",
              "      <td>4200.74</td>\n",
              "      <td>4325.23</td>\n",
              "      <td>225.0</td>\n",
              "      <td>2017.0</td>\n",
              "      <td>8.0</td>\n",
              "      <td>17.0</td>\n",
              "      <td>1.644336e+18</td>\n",
              "      <td>4307.560000</td>\n",
              "      <td>4369.69000</td>\n",
              "      <td>4258.560000</td>\n",
              "      <td>4285.080000</td>\n",
              "      <td>250.000000</td>\n",
              "      <td>4307.560000</td>\n",
              "      <td>4369.69000</td>\n",
              "      <td>4258.560000</td>\n",
              "      <td>4285.080000</td>\n",
              "      <td>250.000000</td>\n",
              "      <td>4307.560000</td>\n",
              "      <td>4369.69000</td>\n",
              "      <td>4258.560000</td>\n",
              "      <td>4285.080000</td>\n",
              "      <td>250.000000</td>\n",
              "    </tr>\n",
              "    <tr>\n",
              "      <th>4</th>\n",
              "      <td>4307.56</td>\n",
              "      <td>4369.69</td>\n",
              "      <td>4258.56</td>\n",
              "      <td>4285.08</td>\n",
              "      <td>250.0</td>\n",
              "      <td>2017.0</td>\n",
              "      <td>8.0</td>\n",
              "      <td>17.0</td>\n",
              "      <td>1.644350e+18</td>\n",
              "      <td>4285.080000</td>\n",
              "      <td>4340.62000</td>\n",
              "      <td>4134.610000</td>\n",
              "      <td>4292.390000</td>\n",
              "      <td>276.000000</td>\n",
              "      <td>4285.080000</td>\n",
              "      <td>4340.62000</td>\n",
              "      <td>4134.610000</td>\n",
              "      <td>4292.390000</td>\n",
              "      <td>276.000000</td>\n",
              "      <td>4285.080000</td>\n",
              "      <td>4340.62000</td>\n",
              "      <td>4134.610000</td>\n",
              "      <td>4292.390000</td>\n",
              "      <td>276.000000</td>\n",
              "    </tr>\n",
              "    <tr>\n",
              "      <th>...</th>\n",
              "      <td>...</td>\n",
              "      <td>...</td>\n",
              "      <td>...</td>\n",
              "      <td>...</td>\n",
              "      <td>...</td>\n",
              "      <td>...</td>\n",
              "      <td>...</td>\n",
              "      <td>...</td>\n",
              "      <td>...</td>\n",
              "      <td>...</td>\n",
              "      <td>...</td>\n",
              "      <td>...</td>\n",
              "      <td>...</td>\n",
              "      <td>...</td>\n",
              "      <td>...</td>\n",
              "      <td>...</td>\n",
              "      <td>...</td>\n",
              "      <td>...</td>\n",
              "      <td>...</td>\n",
              "      <td>...</td>\n",
              "      <td>...</td>\n",
              "      <td>...</td>\n",
              "      <td>...</td>\n",
              "      <td>...</td>\n",
              "    </tr>\n",
              "    <tr>\n",
              "      <th>9418</th>\n",
              "      <td>48942.67</td>\n",
              "      <td>49366.00</td>\n",
              "      <td>48653.05</td>\n",
              "      <td>49103.00</td>\n",
              "      <td>7912.0</td>\n",
              "      <td>2021.0</td>\n",
              "      <td>12.0</td>\n",
              "      <td>6.0</td>\n",
              "      <td>1.644336e+18</td>\n",
              "      <td>49103.000000</td>\n",
              "      <td>50891.11000</td>\n",
              "      <td>48760.000000</td>\n",
              "      <td>50441.920000</td>\n",
              "      <td>9500.000000</td>\n",
              "      <td>49103.000000</td>\n",
              "      <td>50891.11000</td>\n",
              "      <td>48760.000000</td>\n",
              "      <td>50441.920000</td>\n",
              "      <td>9500.000000</td>\n",
              "      <td>49103.000000</td>\n",
              "      <td>50891.11000</td>\n",
              "      <td>48760.000000</td>\n",
              "      <td>50441.920000</td>\n",
              "      <td>9500.000000</td>\n",
              "    </tr>\n",
              "    <tr>\n",
              "      <th>9419</th>\n",
              "      <td>49103.00</td>\n",
              "      <td>50891.11</td>\n",
              "      <td>48760.00</td>\n",
              "      <td>50441.92</td>\n",
              "      <td>9500.0</td>\n",
              "      <td>2021.0</td>\n",
              "      <td>12.0</td>\n",
              "      <td>6.0</td>\n",
              "      <td>1.644350e+18</td>\n",
              "      <td>50441.910000</td>\n",
              "      <td>51430.00000</td>\n",
              "      <td>50332.620000</td>\n",
              "      <td>50945.030000</td>\n",
              "      <td>6585.000000</td>\n",
              "      <td>50441.910000</td>\n",
              "      <td>51430.00000</td>\n",
              "      <td>50332.620000</td>\n",
              "      <td>50945.030000</td>\n",
              "      <td>6585.000000</td>\n",
              "      <td>50441.910000</td>\n",
              "      <td>51430.00000</td>\n",
              "      <td>50332.620000</td>\n",
              "      <td>50945.030000</td>\n",
              "      <td>6585.000000</td>\n",
              "    </tr>\n",
              "    <tr>\n",
              "      <th>9420</th>\n",
              "      <td>50441.91</td>\n",
              "      <td>51430.00</td>\n",
              "      <td>50332.62</td>\n",
              "      <td>50945.03</td>\n",
              "      <td>6585.0</td>\n",
              "      <td>2021.0</td>\n",
              "      <td>12.0</td>\n",
              "      <td>7.0</td>\n",
              "      <td>1.644278e+18</td>\n",
              "      <td>50945.020000</td>\n",
              "      <td>51335.16000</td>\n",
              "      <td>50797.860000</td>\n",
              "      <td>50907.270000</td>\n",
              "      <td>4802.000000</td>\n",
              "      <td>50945.020000</td>\n",
              "      <td>51335.16000</td>\n",
              "      <td>50797.860000</td>\n",
              "      <td>50907.270000</td>\n",
              "      <td>4802.000000</td>\n",
              "      <td>50945.020000</td>\n",
              "      <td>51335.16000</td>\n",
              "      <td>50797.860000</td>\n",
              "      <td>50907.270000</td>\n",
              "      <td>4802.000000</td>\n",
              "    </tr>\n",
              "    <tr>\n",
              "      <th>9421</th>\n",
              "      <td>50945.02</td>\n",
              "      <td>51335.16</td>\n",
              "      <td>50797.86</td>\n",
              "      <td>50907.27</td>\n",
              "      <td>4802.0</td>\n",
              "      <td>2021.0</td>\n",
              "      <td>12.0</td>\n",
              "      <td>7.0</td>\n",
              "      <td>1.644293e+18</td>\n",
              "      <td>50907.270000</td>\n",
              "      <td>51066.86000</td>\n",
              "      <td>50810.030000</td>\n",
              "      <td>51040.650000</td>\n",
              "      <td>462.000000</td>\n",
              "      <td>50907.270000</td>\n",
              "      <td>51066.86000</td>\n",
              "      <td>50810.030000</td>\n",
              "      <td>51040.650000</td>\n",
              "      <td>462.000000</td>\n",
              "      <td>50907.270000</td>\n",
              "      <td>51066.86000</td>\n",
              "      <td>50810.030000</td>\n",
              "      <td>51040.650000</td>\n",
              "      <td>462.000000</td>\n",
              "    </tr>\n",
              "    <tr>\n",
              "      <th>9422</th>\n",
              "      <td>50907.27</td>\n",
              "      <td>51066.86</td>\n",
              "      <td>50810.03</td>\n",
              "      <td>51040.65</td>\n",
              "      <td>462.0</td>\n",
              "      <td>2021.0</td>\n",
              "      <td>12.0</td>\n",
              "      <td>7.0</td>\n",
              "      <td>1.644307e+18</td>\n",
              "      <td>16934.020356</td>\n",
              "      <td>17144.11511</td>\n",
              "      <td>16702.485925</td>\n",
              "      <td>16939.061326</td>\n",
              "      <td>8450.567608</td>\n",
              "      <td>16934.020356</td>\n",
              "      <td>17144.11511</td>\n",
              "      <td>16702.485925</td>\n",
              "      <td>16939.061326</td>\n",
              "      <td>8450.567608</td>\n",
              "      <td>16934.020356</td>\n",
              "      <td>17144.11511</td>\n",
              "      <td>16702.485925</td>\n",
              "      <td>16939.061326</td>\n",
              "      <td>8450.567608</td>\n",
              "    </tr>\n",
              "  </tbody>\n",
              "</table>\n",
              "<p>9423 rows × 24 columns</p>\n",
              "</div>\n",
              "      <button class=\"colab-df-convert\" onclick=\"convertToInteractive('df-d4dd81ac-cc22-4027-a246-a03f45919fd0')\"\n",
              "              title=\"Convert this dataframe to an interactive table.\"\n",
              "              style=\"display:none;\">\n",
              "        \n",
              "  <svg xmlns=\"http://www.w3.org/2000/svg\" height=\"24px\"viewBox=\"0 0 24 24\"\n",
              "       width=\"24px\">\n",
              "    <path d=\"M0 0h24v24H0V0z\" fill=\"none\"/>\n",
              "    <path d=\"M18.56 5.44l.94 2.06.94-2.06 2.06-.94-2.06-.94-.94-2.06-.94 2.06-2.06.94zm-11 1L8.5 8.5l.94-2.06 2.06-.94-2.06-.94L8.5 2.5l-.94 2.06-2.06.94zm10 10l.94 2.06.94-2.06 2.06-.94-2.06-.94-.94-2.06-.94 2.06-2.06.94z\"/><path d=\"M17.41 7.96l-1.37-1.37c-.4-.4-.92-.59-1.43-.59-.52 0-1.04.2-1.43.59L10.3 9.45l-7.72 7.72c-.78.78-.78 2.05 0 2.83L4 21.41c.39.39.9.59 1.41.59.51 0 1.02-.2 1.41-.59l7.78-7.78 2.81-2.81c.8-.78.8-2.07 0-2.86zM5.41 20L4 18.59l7.72-7.72 1.47 1.35L5.41 20z\"/>\n",
              "  </svg>\n",
              "      </button>\n",
              "      \n",
              "  <style>\n",
              "    .colab-df-container {\n",
              "      display:flex;\n",
              "      flex-wrap:wrap;\n",
              "      gap: 12px;\n",
              "    }\n",
              "\n",
              "    .colab-df-convert {\n",
              "      background-color: #E8F0FE;\n",
              "      border: none;\n",
              "      border-radius: 50%;\n",
              "      cursor: pointer;\n",
              "      display: none;\n",
              "      fill: #1967D2;\n",
              "      height: 32px;\n",
              "      padding: 0 0 0 0;\n",
              "      width: 32px;\n",
              "    }\n",
              "\n",
              "    .colab-df-convert:hover {\n",
              "      background-color: #E2EBFA;\n",
              "      box-shadow: 0px 1px 2px rgba(60, 64, 67, 0.3), 0px 1px 3px 1px rgba(60, 64, 67, 0.15);\n",
              "      fill: #174EA6;\n",
              "    }\n",
              "\n",
              "    [theme=dark] .colab-df-convert {\n",
              "      background-color: #3B4455;\n",
              "      fill: #D2E3FC;\n",
              "    }\n",
              "\n",
              "    [theme=dark] .colab-df-convert:hover {\n",
              "      background-color: #434B5C;\n",
              "      box-shadow: 0px 1px 3px 1px rgba(0, 0, 0, 0.15);\n",
              "      filter: drop-shadow(0px 1px 2px rgba(0, 0, 0, 0.3));\n",
              "      fill: #FFFFFF;\n",
              "    }\n",
              "  </style>\n",
              "\n",
              "      <script>\n",
              "        const buttonEl =\n",
              "          document.querySelector('#df-d4dd81ac-cc22-4027-a246-a03f45919fd0 button.colab-df-convert');\n",
              "        buttonEl.style.display =\n",
              "          google.colab.kernel.accessAllowed ? 'block' : 'none';\n",
              "\n",
              "        async function convertToInteractive(key) {\n",
              "          const element = document.querySelector('#df-d4dd81ac-cc22-4027-a246-a03f45919fd0');\n",
              "          const dataTable =\n",
              "            await google.colab.kernel.invokeFunction('convertToInteractive',\n",
              "                                                     [key], {});\n",
              "          if (!dataTable) return;\n",
              "\n",
              "          const docLinkHtml = 'Like what you see? Visit the ' +\n",
              "            '<a target=\"_blank\" href=https://colab.research.google.com/notebooks/data_table.ipynb>data table notebook</a>'\n",
              "            + ' to learn more about interactive tables.';\n",
              "          element.innerHTML = '';\n",
              "          dataTable['output_type'] = 'display_data';\n",
              "          await google.colab.output.renderOutput(dataTable, element);\n",
              "          const docLink = document.createElement('div');\n",
              "          docLink.innerHTML = docLinkHtml;\n",
              "          element.appendChild(docLink);\n",
              "        }\n",
              "      </script>\n",
              "    </div>\n",
              "  </div>\n",
              "  "
            ],
            "text/plain": [
              "          Open      High       Low  ...          Low3        Close3      Volume3\n",
              "0      4261.48   4349.99   4261.32  ...   4333.320000   4427.300000    64.000000\n",
              "1      4333.32   4485.39   4333.32  ...   4333.420000   4352.340000   175.000000\n",
              "2      4436.06   4485.39   4333.42  ...   4200.740000   4325.230000   225.000000\n",
              "3      4352.33   4354.84   4200.74  ...   4258.560000   4285.080000   250.000000\n",
              "4      4307.56   4369.69   4258.56  ...   4134.610000   4292.390000   276.000000\n",
              "...        ...       ...       ...  ...           ...           ...          ...\n",
              "9418  48942.67  49366.00  48653.05  ...  48760.000000  50441.920000  9500.000000\n",
              "9419  49103.00  50891.11  48760.00  ...  50332.620000  50945.030000  6585.000000\n",
              "9420  50441.91  51430.00  50332.62  ...  50797.860000  50907.270000  4802.000000\n",
              "9421  50945.02  51335.16  50797.86  ...  50810.030000  51040.650000   462.000000\n",
              "9422  50907.27  51066.86  50810.03  ...  16702.485925  16939.061326  8450.567608\n",
              "\n",
              "[9423 rows x 24 columns]"
            ]
          },
          "metadata": {},
          "execution_count": 15
        }
      ],
      "source": [
        "\n",
        "X = df.loc[:, df.columns != 'Close4']\n",
        "#X = df['Date','Open','High','Low','Volume','Quote_Volume','Trades_Count','div','Log_VolumeGain']\n",
        "\n",
        "X\n",
        "\n"
      ]
    },
    {
      "cell_type": "markdown",
      "metadata": {
        "id": "Z72B8PaIK5Dw"
      },
      "source": [
        "#### explore data"
      ]
    },
    {
      "cell_type": "code",
      "execution_count": 16,
      "metadata": {
        "id": "AGoiDIz6K5Dw",
        "outputId": "fcab2cfa-fc42-4385-d9ed-2827976619ca",
        "colab": {
          "base_uri": "https://localhost:8080/"
        }
      },
      "outputs": [
        {
          "output_type": "execute_result",
          "data": {
            "text/plain": [
              "0        4427.300000\n",
              "1        4352.340000\n",
              "2        4325.230000\n",
              "3        4285.080000\n",
              "4        4292.390000\n",
              "            ...     \n",
              "9418    50441.920000\n",
              "9419    50945.030000\n",
              "9420    50907.270000\n",
              "9421    51040.650000\n",
              "9422    16939.061326\n",
              "Name: Close4, Length: 9423, dtype: float64"
            ]
          },
          "metadata": {},
          "execution_count": 16
        }
      ],
      "source": [
        "### Regression \n",
        "y = df['Close4']\n",
        "y\n"
      ]
    },
    {
      "cell_type": "code",
      "execution_count": 17,
      "metadata": {
        "id": "fwZOvBejK5Dx",
        "outputId": "e5e257a3-fbbe-4f65-c800-4c45b06cdab2",
        "colab": {
          "base_uri": "https://localhost:8080/",
          "height": 298
        }
      },
      "outputs": [
        {
          "output_type": "execute_result",
          "data": {
            "text/plain": [
              "Text(0.5, 1.0, 'Close')"
            ]
          },
          "metadata": {},
          "execution_count": 17
        },
        {
          "output_type": "display_data",
          "data": {
            "image/png": "[encoded data removed]",
            "text/plain": [
              "<Figure size 864x288 with 3 Axes>"
            ]
          },
          "metadata": {
            "needs_background": "light"
          }
        }
      ],
      "source": [
        "# Go through those columns with missing data\n",
        "fig, axes = plt.subplots(1, 3, figsize=(12, 4))\n",
        "\n",
        "axes[0].plot(df['month'])\n",
        "axes[0].set_title(\"month\")\n",
        "\n",
        "axes[1].plot(df['day'])\n",
        "axes[1].set_title(\"day\")\n",
        "\n",
        "axes[2].plot(df['Close'])\n",
        "axes[2].set_title(\"Close\")"
      ]
    },
    {
      "cell_type": "markdown",
      "metadata": {
        "id": "KOLP6g73K5D0"
      },
      "source": [
        "#### data scaling"
      ]
    },
    {
      "cell_type": "code",
      "source": [
        "# Normlization \n",
        "\n",
        "### ........date ! \n",
        "\n",
        "data=df\n",
        "from sklearn.preprocessing import MinMaxScaler\n",
        "min_max=MinMaxScaler()\n",
        "\n",
        "data.iloc[:,0:5]=min_max.fit_transform(data.iloc[:,0:5])\n",
        "data.iloc[:,9:29]=min_max.fit_transform(data.iloc[:,9:29])\n",
        "\n",
        "\n",
        "data"
      ],
      "metadata": {
        "colab": {
          "base_uri": "https://localhost:8080/",
          "height": 488
        },
        "id": "cf39XmqwQDyf",
        "outputId": "17f0e051-6209-4f45-c426-c25de039ce1d"
      },
      "execution_count": 19,
      "outputs": [
        {
          "output_type": "execute_result",
          "data": {
            "text/html": [
              "\n",
              "  <div id=\"df-cbe113e7-61ad-4fed-84b1-66f58ee795e1\">\n",
              "    <div class=\"colab-df-container\">\n",
              "      <div>\n",
              "<style scoped>\n",
              "    .dataframe tbody tr th:only-of-type {\n",
              "        vertical-align: middle;\n",
              "    }\n",
              "\n",
              "    .dataframe tbody tr th {\n",
              "        vertical-align: top;\n",
              "    }\n",
              "\n",
              "    .dataframe thead th {\n",
              "        text-align: right;\n",
              "    }\n",
              "</style>\n",
              "<table border=\"1\" class=\"dataframe\">\n",
              "  <thead>\n",
              "    <tr style=\"text-align: right;\">\n",
              "      <th></th>\n",
              "      <th>Open</th>\n",
              "      <th>High</th>\n",
              "      <th>Low</th>\n",
              "      <th>Close</th>\n",
              "      <th>Volume</th>\n",
              "      <th>year</th>\n",
              "      <th>month</th>\n",
              "      <th>day</th>\n",
              "      <th>hours</th>\n",
              "      <th>Open1</th>\n",
              "      <th>High1</th>\n",
              "      <th>Low1</th>\n",
              "      <th>Close1</th>\n",
              "      <th>Volume1</th>\n",
              "      <th>Open2</th>\n",
              "      <th>High2</th>\n",
              "      <th>Low2</th>\n",
              "      <th>Close2</th>\n",
              "      <th>Volume2</th>\n",
              "      <th>Open3</th>\n",
              "      <th>High3</th>\n",
              "      <th>Low3</th>\n",
              "      <th>Close3</th>\n",
              "      <th>Volume3</th>\n",
              "      <th>Close4</th>\n",
              "    </tr>\n",
              "  </thead>\n",
              "  <tbody>\n",
              "    <tr>\n",
              "      <th>0</th>\n",
              "      <td>0.021192</td>\n",
              "      <td>0.018253</td>\n",
              "      <td>0.022285</td>\n",
              "      <td>0.021824</td>\n",
              "      <td>0.000628</td>\n",
              "      <td>2017.0</td>\n",
              "      <td>8.0</td>\n",
              "      <td>17.0</td>\n",
              "      <td>1.644293e+18</td>\n",
              "      <td>0.022286</td>\n",
              "      <td>0.020309</td>\n",
              "      <td>0.023396</td>\n",
              "      <td>0.023003</td>\n",
              "      <td>0.000479</td>\n",
              "      <td>0.022286</td>\n",
              "      <td>0.020309</td>\n",
              "      <td>0.023396</td>\n",
              "      <td>0.023003</td>\n",
              "      <td>0.000479</td>\n",
              "      <td>0.022286</td>\n",
              "      <td>0.020309</td>\n",
              "      <td>0.023396</td>\n",
              "      <td>0.023003</td>\n",
              "      <td>0.000479</td>\n",
              "      <td>0.023003</td>\n",
              "    </tr>\n",
              "    <tr>\n",
              "      <th>1</th>\n",
              "      <td>0.022286</td>\n",
              "      <td>0.020309</td>\n",
              "      <td>0.023396</td>\n",
              "      <td>0.023003</td>\n",
              "      <td>0.000479</td>\n",
              "      <td>2017.0</td>\n",
              "      <td>8.0</td>\n",
              "      <td>17.0</td>\n",
              "      <td>1.644307e+18</td>\n",
              "      <td>0.023852</td>\n",
              "      <td>0.020309</td>\n",
              "      <td>0.023398</td>\n",
              "      <td>0.021859</td>\n",
              "      <td>0.001396</td>\n",
              "      <td>0.023852</td>\n",
              "      <td>0.020309</td>\n",
              "      <td>0.023398</td>\n",
              "      <td>0.021859</td>\n",
              "      <td>0.001396</td>\n",
              "      <td>0.023852</td>\n",
              "      <td>0.020309</td>\n",
              "      <td>0.023398</td>\n",
              "      <td>0.021859</td>\n",
              "      <td>0.001396</td>\n",
              "      <td>0.021859</td>\n",
              "    </tr>\n",
              "    <tr>\n",
              "      <th>2</th>\n",
              "      <td>0.023852</td>\n",
              "      <td>0.020309</td>\n",
              "      <td>0.023398</td>\n",
              "      <td>0.021859</td>\n",
              "      <td>0.001396</td>\n",
              "      <td>2017.0</td>\n",
              "      <td>8.0</td>\n",
              "      <td>17.0</td>\n",
              "      <td>1.644322e+18</td>\n",
              "      <td>0.022576</td>\n",
              "      <td>0.018327</td>\n",
              "      <td>0.021351</td>\n",
              "      <td>0.021446</td>\n",
              "      <td>0.001809</td>\n",
              "      <td>0.022576</td>\n",
              "      <td>0.018327</td>\n",
              "      <td>0.021351</td>\n",
              "      <td>0.021446</td>\n",
              "      <td>0.001809</td>\n",
              "      <td>0.022576</td>\n",
              "      <td>0.018327</td>\n",
              "      <td>0.021351</td>\n",
              "      <td>0.021446</td>\n",
              "      <td>0.001809</td>\n",
              "      <td>0.021446</td>\n",
              "    </tr>\n",
              "    <tr>\n",
              "      <th>3</th>\n",
              "      <td>0.022576</td>\n",
              "      <td>0.018327</td>\n",
              "      <td>0.021351</td>\n",
              "      <td>0.021446</td>\n",
              "      <td>0.001809</td>\n",
              "      <td>2017.0</td>\n",
              "      <td>8.0</td>\n",
              "      <td>17.0</td>\n",
              "      <td>1.644336e+18</td>\n",
              "      <td>0.021894</td>\n",
              "      <td>0.018552</td>\n",
              "      <td>0.022243</td>\n",
              "      <td>0.020834</td>\n",
              "      <td>0.002016</td>\n",
              "      <td>0.021894</td>\n",
              "      <td>0.018552</td>\n",
              "      <td>0.022243</td>\n",
              "      <td>0.020834</td>\n",
              "      <td>0.002016</td>\n",
              "      <td>0.021894</td>\n",
              "      <td>0.018552</td>\n",
              "      <td>0.022243</td>\n",
              "      <td>0.020834</td>\n",
              "      <td>0.002016</td>\n",
              "      <td>0.020834</td>\n",
              "    </tr>\n",
              "    <tr>\n",
              "      <th>4</th>\n",
              "      <td>0.021894</td>\n",
              "      <td>0.018552</td>\n",
              "      <td>0.022243</td>\n",
              "      <td>0.020834</td>\n",
              "      <td>0.002016</td>\n",
              "      <td>2017.0</td>\n",
              "      <td>8.0</td>\n",
              "      <td>17.0</td>\n",
              "      <td>1.644350e+18</td>\n",
              "      <td>0.021551</td>\n",
              "      <td>0.018111</td>\n",
              "      <td>0.020330</td>\n",
              "      <td>0.020945</td>\n",
              "      <td>0.002231</td>\n",
              "      <td>0.021551</td>\n",
              "      <td>0.018111</td>\n",
              "      <td>0.020330</td>\n",
              "      <td>0.020945</td>\n",
              "      <td>0.002231</td>\n",
              "      <td>0.021551</td>\n",
              "      <td>0.018111</td>\n",
              "      <td>0.020330</td>\n",
              "      <td>0.020945</td>\n",
              "      <td>0.002231</td>\n",
              "      <td>0.020945</td>\n",
              "    </tr>\n",
              "    <tr>\n",
              "      <th>...</th>\n",
              "      <td>...</td>\n",
              "      <td>...</td>\n",
              "      <td>...</td>\n",
              "      <td>...</td>\n",
              "      <td>...</td>\n",
              "      <td>...</td>\n",
              "      <td>...</td>\n",
              "      <td>...</td>\n",
              "      <td>...</td>\n",
              "      <td>...</td>\n",
              "      <td>...</td>\n",
              "      <td>...</td>\n",
              "      <td>...</td>\n",
              "      <td>...</td>\n",
              "      <td>...</td>\n",
              "      <td>...</td>\n",
              "      <td>...</td>\n",
              "      <td>...</td>\n",
              "      <td>...</td>\n",
              "      <td>...</td>\n",
              "      <td>...</td>\n",
              "      <td>...</td>\n",
              "      <td>...</td>\n",
              "      <td>...</td>\n",
              "      <td>...</td>\n",
              "    </tr>\n",
              "    <tr>\n",
              "      <th>9418</th>\n",
              "      <td>0.702109</td>\n",
              "      <td>0.701847</td>\n",
              "      <td>0.707236</td>\n",
              "      <td>0.704336</td>\n",
              "      <td>0.065320</td>\n",
              "      <td>2021.0</td>\n",
              "      <td>12.0</td>\n",
              "      <td>6.0</td>\n",
              "      <td>1.644336e+18</td>\n",
              "      <td>0.704552</td>\n",
              "      <td>0.725006</td>\n",
              "      <td>0.708886</td>\n",
              "      <td>0.724755</td>\n",
              "      <td>0.078440</td>\n",
              "      <td>0.704552</td>\n",
              "      <td>0.725006</td>\n",
              "      <td>0.708886</td>\n",
              "      <td>0.724755</td>\n",
              "      <td>0.078440</td>\n",
              "      <td>0.704552</td>\n",
              "      <td>0.725006</td>\n",
              "      <td>0.708886</td>\n",
              "      <td>0.724755</td>\n",
              "      <td>0.078440</td>\n",
              "      <td>0.724755</td>\n",
              "    </tr>\n",
              "    <tr>\n",
              "      <th>9419</th>\n",
              "      <td>0.704552</td>\n",
              "      <td>0.725006</td>\n",
              "      <td>0.708886</td>\n",
              "      <td>0.724755</td>\n",
              "      <td>0.078440</td>\n",
              "      <td>2021.0</td>\n",
              "      <td>12.0</td>\n",
              "      <td>6.0</td>\n",
              "      <td>1.644350e+18</td>\n",
              "      <td>0.724957</td>\n",
              "      <td>0.733190</td>\n",
              "      <td>0.733151</td>\n",
              "      <td>0.732428</td>\n",
              "      <td>0.054356</td>\n",
              "      <td>0.724957</td>\n",
              "      <td>0.733190</td>\n",
              "      <td>0.733151</td>\n",
              "      <td>0.732428</td>\n",
              "      <td>0.054356</td>\n",
              "      <td>0.724957</td>\n",
              "      <td>0.733190</td>\n",
              "      <td>0.733151</td>\n",
              "      <td>0.732428</td>\n",
              "      <td>0.054356</td>\n",
              "      <td>0.732428</td>\n",
              "    </tr>\n",
              "    <tr>\n",
              "      <th>9420</th>\n",
              "      <td>0.724957</td>\n",
              "      <td>0.733190</td>\n",
              "      <td>0.733151</td>\n",
              "      <td>0.732428</td>\n",
              "      <td>0.054356</td>\n",
              "      <td>2021.0</td>\n",
              "      <td>12.0</td>\n",
              "      <td>7.0</td>\n",
              "      <td>1.644278e+18</td>\n",
              "      <td>0.732624</td>\n",
              "      <td>0.731749</td>\n",
              "      <td>0.740330</td>\n",
              "      <td>0.731852</td>\n",
              "      <td>0.039625</td>\n",
              "      <td>0.732624</td>\n",
              "      <td>0.731749</td>\n",
              "      <td>0.740330</td>\n",
              "      <td>0.731852</td>\n",
              "      <td>0.039625</td>\n",
              "      <td>0.732624</td>\n",
              "      <td>0.731749</td>\n",
              "      <td>0.740330</td>\n",
              "      <td>0.731852</td>\n",
              "      <td>0.039625</td>\n",
              "      <td>0.731852</td>\n",
              "    </tr>\n",
              "    <tr>\n",
              "      <th>9421</th>\n",
              "      <td>0.732624</td>\n",
              "      <td>0.731749</td>\n",
              "      <td>0.740330</td>\n",
              "      <td>0.731852</td>\n",
              "      <td>0.039625</td>\n",
              "      <td>2021.0</td>\n",
              "      <td>12.0</td>\n",
              "      <td>7.0</td>\n",
              "      <td>1.644293e+18</td>\n",
              "      <td>0.732049</td>\n",
              "      <td>0.727675</td>\n",
              "      <td>0.740517</td>\n",
              "      <td>0.733886</td>\n",
              "      <td>0.003768</td>\n",
              "      <td>0.732049</td>\n",
              "      <td>0.727675</td>\n",
              "      <td>0.740517</td>\n",
              "      <td>0.733886</td>\n",
              "      <td>0.003768</td>\n",
              "      <td>0.732049</td>\n",
              "      <td>0.727675</td>\n",
              "      <td>0.740517</td>\n",
              "      <td>0.733886</td>\n",
              "      <td>0.003768</td>\n",
              "      <td>0.733886</td>\n",
              "    </tr>\n",
              "    <tr>\n",
              "      <th>9422</th>\n",
              "      <td>0.732049</td>\n",
              "      <td>0.727675</td>\n",
              "      <td>0.740517</td>\n",
              "      <td>0.733886</td>\n",
              "      <td>0.003768</td>\n",
              "      <td>2021.0</td>\n",
              "      <td>12.0</td>\n",
              "      <td>7.0</td>\n",
              "      <td>1.644307e+18</td>\n",
              "      <td>0.214314</td>\n",
              "      <td>0.212539</td>\n",
              "      <td>0.214249</td>\n",
              "      <td>0.213815</td>\n",
              "      <td>0.069770</td>\n",
              "      <td>0.214314</td>\n",
              "      <td>0.212539</td>\n",
              "      <td>0.214249</td>\n",
              "      <td>0.213815</td>\n",
              "      <td>0.069770</td>\n",
              "      <td>0.214314</td>\n",
              "      <td>0.212539</td>\n",
              "      <td>0.214249</td>\n",
              "      <td>0.213815</td>\n",
              "      <td>0.069770</td>\n",
              "      <td>0.213815</td>\n",
              "    </tr>\n",
              "  </tbody>\n",
              "</table>\n",
              "<p>9423 rows × 25 columns</p>\n",
              "</div>\n",
              "      <button class=\"colab-df-convert\" onclick=\"convertToInteractive('df-cbe113e7-61ad-4fed-84b1-66f58ee795e1')\"\n",
              "              title=\"Convert this dataframe to an interactive table.\"\n",
              "              style=\"display:none;\">\n",
              "        \n",
              "  <svg xmlns=\"http://www.w3.org/2000/svg\" height=\"24px\"viewBox=\"0 0 24 24\"\n",
              "       width=\"24px\">\n",
              "    <path d=\"M0 0h24v24H0V0z\" fill=\"none\"/>\n",
              "    <path d=\"M18.56 5.44l.94 2.06.94-2.06 2.06-.94-2.06-.94-.94-2.06-.94 2.06-2.06.94zm-11 1L8.5 8.5l.94-2.06 2.06-.94-2.06-.94L8.5 2.5l-.94 2.06-2.06.94zm10 10l.94 2.06.94-2.06 2.06-.94-2.06-.94-.94-2.06-.94 2.06-2.06.94z\"/><path d=\"M17.41 7.96l-1.37-1.37c-.4-.4-.92-.59-1.43-.59-.52 0-1.04.2-1.43.59L10.3 9.45l-7.72 7.72c-.78.78-.78 2.05 0 2.83L4 21.41c.39.39.9.59 1.41.59.51 0 1.02-.2 1.41-.59l7.78-7.78 2.81-2.81c.8-.78.8-2.07 0-2.86zM5.41 20L4 18.59l7.72-7.72 1.47 1.35L5.41 20z\"/>\n",
              "  </svg>\n",
              "      </button>\n",
              "      \n",
              "  <style>\n",
              "    .colab-df-container {\n",
              "      display:flex;\n",
              "      flex-wrap:wrap;\n",
              "      gap: 12px;\n",
              "    }\n",
              "\n",
              "    .colab-df-convert {\n",
              "      background-color: #E8F0FE;\n",
              "      border: none;\n",
              "      border-radius: 50%;\n",
              "      cursor: pointer;\n",
              "      display: none;\n",
              "      fill: #1967D2;\n",
              "      height: 32px;\n",
              "      padding: 0 0 0 0;\n",
              "      width: 32px;\n",
              "    }\n",
              "\n",
              "    .colab-df-convert:hover {\n",
              "      background-color: #E2EBFA;\n",
              "      box-shadow: 0px 1px 2px rgba(60, 64, 67, 0.3), 0px 1px 3px 1px rgba(60, 64, 67, 0.15);\n",
              "      fill: #174EA6;\n",
              "    }\n",
              "\n",
              "    [theme=dark] .colab-df-convert {\n",
              "      background-color: #3B4455;\n",
              "      fill: #D2E3FC;\n",
              "    }\n",
              "\n",
              "    [theme=dark] .colab-df-convert:hover {\n",
              "      background-color: #434B5C;\n",
              "      box-shadow: 0px 1px 3px 1px rgba(0, 0, 0, 0.15);\n",
              "      filter: drop-shadow(0px 1px 2px rgba(0, 0, 0, 0.3));\n",
              "      fill: #FFFFFF;\n",
              "    }\n",
              "  </style>\n",
              "\n",
              "      <script>\n",
              "        const buttonEl =\n",
              "          document.querySelector('#df-cbe113e7-61ad-4fed-84b1-66f58ee795e1 button.colab-df-convert');\n",
              "        buttonEl.style.display =\n",
              "          google.colab.kernel.accessAllowed ? 'block' : 'none';\n",
              "\n",
              "        async function convertToInteractive(key) {\n",
              "          const element = document.querySelector('#df-cbe113e7-61ad-4fed-84b1-66f58ee795e1');\n",
              "          const dataTable =\n",
              "            await google.colab.kernel.invokeFunction('convertToInteractive',\n",
              "                                                     [key], {});\n",
              "          if (!dataTable) return;\n",
              "\n",
              "          const docLinkHtml = 'Like what you see? Visit the ' +\n",
              "            '<a target=\"_blank\" href=https://colab.research.google.com/notebooks/data_table.ipynb>data table notebook</a>'\n",
              "            + ' to learn more about interactive tables.';\n",
              "          element.innerHTML = '';\n",
              "          dataTable['output_type'] = 'display_data';\n",
              "          await google.colab.output.renderOutput(dataTable, element);\n",
              "          const docLink = document.createElement('div');\n",
              "          docLink.innerHTML = docLinkHtml;\n",
              "          element.appendChild(docLink);\n",
              "        }\n",
              "      </script>\n",
              "    </div>\n",
              "  </div>\n",
              "  "
            ],
            "text/plain": [
              "          Open      High       Low  ...    Close3   Volume3    Close4\n",
              "0     0.021192  0.018253  0.022285  ...  0.023003  0.000479  0.023003\n",
              "1     0.022286  0.020309  0.023396  ...  0.021859  0.001396  0.021859\n",
              "2     0.023852  0.020309  0.023398  ...  0.021446  0.001809  0.021446\n",
              "3     0.022576  0.018327  0.021351  ...  0.020834  0.002016  0.020834\n",
              "4     0.021894  0.018552  0.022243  ...  0.020945  0.002231  0.020945\n",
              "...        ...       ...       ...  ...       ...       ...       ...\n",
              "9418  0.702109  0.701847  0.707236  ...  0.724755  0.078440  0.724755\n",
              "9419  0.704552  0.725006  0.708886  ...  0.732428  0.054356  0.732428\n",
              "9420  0.724957  0.733190  0.733151  ...  0.731852  0.039625  0.731852\n",
              "9421  0.732624  0.731749  0.740330  ...  0.733886  0.003768  0.733886\n",
              "9422  0.732049  0.727675  0.740517  ...  0.213815  0.069770  0.213815\n",
              "\n",
              "[9423 rows x 25 columns]"
            ]
          },
          "metadata": {},
          "execution_count": 19
        }
      ]
    },
    {
      "cell_type": "code",
      "execution_count": 20,
      "metadata": {
        "id": "WdqJsZV1K5D1"
      },
      "outputs": [],
      "source": [
        "# use MinMaxScaler to scale data\n",
        "from sklearn.preprocessing import MinMaxScaler\n",
        "scaler = MinMaxScaler()\n",
        "\n",
        "#split data\n",
        "from sklearn.model_selection import train_test_split\n",
        "X_train_org, X_test_org, y_train, y_test = train_test_split(X,y, test_size = 0.2,random_state = 20)\n",
        "\n",
        "X_train = scaler.fit_transform(X_train_org)\n",
        "X_test = scaler.transform(X_test_org)"
      ]
    },
    {
      "cell_type": "markdown",
      "metadata": {
        "id": "pHxHZcymK5D1"
      },
      "source": [
        "### Train data with cross validation"
      ]
    },
    {
      "cell_type": "code",
      "execution_count": 21,
      "metadata": {
        "id": "CZGQ96l6K5D2"
      },
      "outputs": [],
      "source": [
        "from sklearn.model_selection import cross_val_score\n",
        "scores = {}\n",
        "cv_s= {}"
      ]
    },
    {
      "cell_type": "markdown",
      "metadata": {
        "id": "khN6ieJdK5D2"
      },
      "source": [
        "#### K-neighbors regression"
      ]
    },
    {
      "cell_type": "code",
      "execution_count": 22,
      "metadata": {
        "id": "wrEK6MXBK5D3",
        "outputId": "771d6c47-b515-4a17-d6c7-3cf2fc4c9e04",
        "colab": {
          "base_uri": "https://localhost:8080/",
          "height": 297
        }
      },
      "outputs": [
        {
          "output_type": "execute_result",
          "data": {
            "text/plain": [
              "<matplotlib.legend.Legend at 0x7f784e72e410>"
            ]
          },
          "metadata": {},
          "execution_count": 22
        },
        {
          "output_type": "display_data",
          "data": {
            "image/png": "[encoded data removed]",
            "text/plain": [
              "<Figure size 432x288 with 1 Axes>"
            ]
          },
          "metadata": {
            "needs_background": "light"
          }
        }
      ],
      "source": [
        "from sklearn.neighbors import KNeighborsRegressor\n",
        "training_accuracy = []\n",
        "test_accuracy = []\n",
        "neighbor_seetings = range(1,7)\n",
        "\n",
        "for x in neighbor_seetings:\n",
        "    knr = KNeighborsRegressor(n_neighbors = x)\n",
        "    knr.fit(X_train, y_train)\n",
        "    training_accuracy.append(knr.score(X_train, y_train))\n",
        "    test_accuracy.append(knr.score(X_test,y_test))\n",
        "\n",
        "# Show the relationship of accuarcy and n_neighbors\n",
        "plt.plot(neighbor_seetings, training_accuracy, label = 'training accuracy')\n",
        "plt.plot(neighbor_seetings, test_accuracy, label = 'test accuracy')\n",
        "plt.ylabel(\"Accuracy\")\n",
        "plt.xlabel('n_neighbors')\n",
        "plt.legend()"
      ]
    },
    {
      "cell_type": "code",
      "execution_count": 23,
      "metadata": {
        "id": "tZGOcbkuK5D4"
      },
      "outputs": [],
      "source": [
        "# The best n_neighbors is 3\n",
        "scores['K-neighbors regression'] = [training_accuracy[2],test_accuracy[2]]"
      ]
    },
    {
      "cell_type": "code",
      "execution_count": 24,
      "metadata": {
        "id": "Yz2mfOFfK5D4",
        "outputId": "b2983002-7c35-4283-aabc-78b73de1af49",
        "colab": {
          "base_uri": "https://localhost:8080/"
        }
      },
      "outputs": [
        {
          "output_type": "stream",
          "name": "stdout",
          "text": [
            "Cross-validation training scores (5-fold): [0.99884136 0.99875786 0.99866753 0.99880963 0.99875507]\n",
            "Mean cross-validation training score (5-fold): 0.999\n"
          ]
        }
      ],
      "source": [
        "# Cross Validation\n",
        "knr = KNeighborsRegressor(n_neighbors = 3)\n",
        "cv_scores = cross_val_score(knr, X_train, y_train,cv = 5)\n",
        "print('Cross-validation training scores (5-fold):', cv_scores)\n",
        "print('Mean cross-validation training score (5-fold): {:.3f}'.format(np.mean(cv_scores)))\n",
        "cv_test_scores = cross_val_score(knr, X_test, y_test,cv = 5)\n",
        "cv_s['K-neighbors regression']=[np.mean(cv_scores),np.mean(cv_test_scores)]"
      ]
    },
    {
      "cell_type": "markdown",
      "metadata": {
        "id": "ik7LoOu5K5D5"
      },
      "source": [
        "#### Linear Regression"
      ]
    },
    {
      "cell_type": "code",
      "execution_count": 25,
      "metadata": {
        "id": "IaXPvKsvK5D5",
        "outputId": "96088225-3ac2-4e0a-f04a-ce2036a7e9a4",
        "colab": {
          "base_uri": "https://localhost:8080/"
        }
      },
      "outputs": [
        {
          "output_type": "stream",
          "name": "stdout",
          "text": [
            "Train score: 1.0\n",
            "Test score: 1.0\n"
          ]
        }
      ],
      "source": [
        "from sklearn.linear_model import LinearRegression\n",
        "lr = LinearRegression()\n",
        "\n",
        "lr.fit(X_train, y_train)\n",
        "print('Train score: {}'.format(lr.score(X_train, y_train)))\n",
        "print('Test score: {}'.format(lr.score(X_test,y_test)))\n",
        "scores['LinearRegression']=[lr.score(X_train, y_train),lr.score(X_test,y_test)]"
      ]
    },
    {
      "cell_type": "code",
      "execution_count": 26,
      "metadata": {
        "id": "W59KpJsBK5D6",
        "outputId": "3778c49f-9292-4b37-c75f-b9c01b2edbe1",
        "colab": {
          "base_uri": "https://localhost:8080/"
        }
      },
      "outputs": [
        {
          "output_type": "stream",
          "name": "stdout",
          "text": [
            "Cross-validation training scores (5-fold): [1. 1. 1. 1. 1.]\n",
            "Mean cross-validation training score (5-fold): 1.000\n"
          ]
        }
      ],
      "source": [
        "# Cross Validation\n",
        "cv_scores = cross_val_score(lr, X_train, y_train,cv = 5)\n",
        "print('Cross-validation training scores (5-fold):', cv_scores)\n",
        "print('Mean cross-validation training score (5-fold): {:.3f}'.format(np.mean(cv_scores)))\n",
        "cv_test_scores = cross_val_score(lr, X_test, y_test,cv = 5)\n",
        "cv_s['LinearRegression']=[np.mean(cv_scores),np.mean(cv_test_scores)]"
      ]
    },
    {
      "cell_type": "markdown",
      "metadata": {
        "id": "jL9pB_9jK5D7"
      },
      "source": [
        "#### Ridge"
      ]
    },
    {
      "cell_type": "code",
      "execution_count": 27,
      "metadata": {
        "id": "lri9zPz6K5D7",
        "outputId": "a591e80e-06b1-416c-a616-3b6527432463",
        "colab": {
          "base_uri": "https://localhost:8080/"
        }
      },
      "outputs": [
        {
          "output_type": "stream",
          "name": "stdout",
          "text": [
            "Train score: 0.999914841647661\n",
            "Test score: 0.9999178520562726\n"
          ]
        }
      ],
      "source": [
        "# Alpha by default is 1.0\n",
        "from sklearn.linear_model import Ridge\n",
        "ridge = Ridge()\n",
        "ridge.fit(X_train, y_train)\n",
        "print('Train score: {}'.format(ridge.score(X_train, y_train)))\n",
        "print('Test score: {}'.format(ridge.score(X_test,y_test)))"
      ]
    },
    {
      "cell_type": "code",
      "execution_count": 28,
      "metadata": {
        "id": "dg22oV6PK5D7",
        "outputId": "0284a392-e655-438c-abf5-76f3ec6f9363",
        "colab": {
          "base_uri": "https://localhost:8080/",
          "height": 296
        }
      },
      "outputs": [
        {
          "output_type": "execute_result",
          "data": {
            "text/plain": [
              "<matplotlib.legend.Legend at 0x7f784e6cfc90>"
            ]
          },
          "metadata": {},
          "execution_count": 28
        },
        {
          "output_type": "display_data",
          "data": {
            "image/png": "[encoded data removed]",
            "text/plain": [
              "<Figure size 432x288 with 1 Axes>"
            ]
          },
          "metadata": {
            "needs_background": "light"
          }
        }
      ],
      "source": [
        "a =np.linspace(0.001,25,1000)\n",
        "training_accuracy = []\n",
        "test_accuracy = []\n",
        "for x in a:\n",
        "    ridge = Ridge(alpha = x)\n",
        "    ridge.fit(X_train, y_train)\n",
        "    training_accuracy.append(ridge.score(X_train, y_train))\n",
        "    test_accuracy.append(ridge.score(X_test,y_test))\n",
        "    \n",
        "plt.plot(a, training_accuracy, label = 'training accuracy')\n",
        "plt.plot(a, test_accuracy, label = 'test accuracy')\n",
        "plt.ylabel(\"Scores\")\n",
        "plt.xlabel('alpha')\n",
        "plt.legend()"
      ]
    },
    {
      "cell_type": "code",
      "execution_count": 29,
      "metadata": {
        "id": "g3dAvlQzK5D8",
        "outputId": "87874023-d108-4439-c986-daa5f5a07ac1",
        "colab": {
          "base_uri": "https://localhost:8080/"
        }
      },
      "outputs": [
        {
          "output_type": "stream",
          "name": "stdout",
          "text": [
            "Best parameters{'alpha': 0.001}\n",
            "Best score 1.00\n"
          ]
        }
      ],
      "source": [
        "# Use GridSearchCV to find the best alpha\n",
        "from sklearn.model_selection import GridSearchCV\n",
        "\n",
        "ridge = Ridge()\n",
        "param_grid = {'alpha':[0.001,0.01, 0.1,1]}\n",
        "\n",
        "grid_search = GridSearchCV(ridge, param_grid, cv = 5)\n",
        "grid_search.fit(X_train, y_train)\n",
        "\n",
        "#use gridsearch to get the best parameters, alpha=0.001\n",
        "print('Best parameters{}'.format(grid_search.best_params_))\n",
        "print('Best score {:.2f}'.format(grid_search.best_score_))"
      ]
    },
    {
      "cell_type": "markdown",
      "metadata": {
        "id": "Ms-EfLroK5D8"
      },
      "source": [
        "Best alpha is 0.001"
      ]
    },
    {
      "cell_type": "code",
      "execution_count": 30,
      "metadata": {
        "id": "Hsyz3I0XK5D9"
      },
      "outputs": [],
      "source": [
        "ridge = Ridge(alpha = 0.001)\n",
        "ridge.fit(X_train, y_train)\n",
        "scores['Ridge']=[ridge.score(X_train, y_train),ridge.score(X_test,y_test)]"
      ]
    },
    {
      "cell_type": "code",
      "execution_count": 31,
      "metadata": {
        "id": "fJkyw-W0K5D9",
        "outputId": "73045fa3-ba4b-4352-eedc-c3f1b185141a",
        "colab": {
          "base_uri": "https://localhost:8080/"
        }
      },
      "outputs": [
        {
          "output_type": "stream",
          "name": "stdout",
          "text": [
            "Cross-validation training scores (5-fold): [1.         0.99999999 0.99999999 1.         0.99999999]\n",
            "Mean cross-validation training score (5-fold): 1.000\n"
          ]
        }
      ],
      "source": [
        "# Cross Validation\n",
        "cv_scores = cross_val_score(ridge, X_train, y_train,cv = 5)\n",
        "print('Cross-validation training scores (5-fold):', cv_scores)\n",
        "print('Mean cross-validation training score (5-fold): {:.3f}'.format(np.mean(cv_scores)))\n",
        "cv_test_scores = cross_val_score(ridge, X_test, y_test,cv = 5)\n",
        "cv_s['Ridge']=[np.mean(cv_scores),np.mean(cv_test_scores)]"
      ]
    },
    {
      "cell_type": "markdown",
      "metadata": {
        "id": "q8Dk9DAiK5D9"
      },
      "source": [
        "#### Lasso"
      ]
    },
    {
      "cell_type": "code",
      "execution_count": 32,
      "metadata": {
        "id": "p5tKjbflK5D-",
        "outputId": "3458e351-ca4b-491b-9221-94bbde3e6d2e",
        "colab": {
          "base_uri": "https://localhost:8080/"
        }
      },
      "outputs": [
        {
          "output_type": "stream",
          "name": "stdout",
          "text": [
            "Train score: 0.0\n",
            "Test score: -2.113088828581411e-06\n",
            "Number of features used: 0\n"
          ]
        }
      ],
      "source": [
        "from sklearn.linear_model import Lasso\n",
        "\n",
        "lasso = Lasso(max_iter = 100000)\n",
        "lasso.fit(X_train, y_train)\n",
        "print('Train score: {}'.format(lasso.score(X_train, y_train)))\n",
        "print('Test score: {}'.format(lasso.score(X_test,y_test)))\n",
        "print('Number of features used: {}'.format(np.sum(lasso.coef_ != 0)))"
      ]
    },
    {
      "cell_type": "code",
      "execution_count": 33,
      "metadata": {
        "id": "8skyBGk5K5D-",
        "outputId": "53e43369-2a0e-4913-edbe-349beaed63a8",
        "colab": {
          "base_uri": "https://localhost:8080/",
          "height": 296
        }
      },
      "outputs": [
        {
          "output_type": "execute_result",
          "data": {
            "text/plain": [
              "<matplotlib.legend.Legend at 0x7f784c651e90>"
            ]
          },
          "metadata": {},
          "execution_count": 33
        },
        {
          "output_type": "display_data",
          "data": {
            "image/png": "[encoded data removed]",
            "text/plain": [
              "<Figure size 432x288 with 1 Axes>"
            ]
          },
          "metadata": {
            "needs_background": "light"
          }
        }
      ],
      "source": [
        "a =np.linspace(0.001,0.5,100)\n",
        "training_accuracy = []\n",
        "test_accuracy = []\n",
        "f = []\n",
        "for x in a:\n",
        "    lasso = Lasso(alpha = x, max_iter = 100000)\n",
        "    lasso.fit(X_train, y_train)\n",
        "    training_accuracy.append(lasso.score(X_train, y_train))\n",
        "    test_accuracy.append(lasso.score(X_test,y_test))\n",
        "    f.append(np.sum(lasso.coef_!=0))\n",
        "plt.plot(a, training_accuracy, label = 'training accuracy')\n",
        "plt.plot(a, test_accuracy, label = 'test accuracy')\n",
        "plt.ylabel(\"Scores\")\n",
        "plt.xlabel('alpha')\n",
        "plt.legend()"
      ]
    },
    {
      "cell_type": "code",
      "execution_count": 34,
      "metadata": {
        "id": "e5vcFLLjK5D_",
        "outputId": "656bf2a2-c31d-421a-9038-ba856089237e",
        "colab": {
          "base_uri": "https://localhost:8080/"
        }
      },
      "outputs": [
        {
          "output_type": "stream",
          "name": "stdout",
          "text": [
            "Best parameters{'alpha': 0.017}\n",
            "Best score 0.9357149819834414\n"
          ]
        }
      ],
      "source": [
        "lasso = Lasso(max_iter = 100000)\n",
        "param_grid = {'alpha':[0.017, 0.02, 0.023, 0.026]}\n",
        "\n",
        "grid_search = GridSearchCV(lasso, param_grid, cv = 5)\n",
        "grid_search.fit(X_train, y_train)\n",
        "\n",
        "print('Best parameters{}'.format(grid_search.best_params_))\n",
        "print('Best score {}'.format(grid_search.best_score_))"
      ]
    },
    {
      "cell_type": "code",
      "execution_count": 35,
      "metadata": {
        "id": "Gb9do55CK5D_"
      },
      "outputs": [],
      "source": [
        "lasso = Lasso(alpha = 0.023,max_iter = 100000)\n",
        "lasso.fit(X_train, y_train)\n",
        "scores['Lasso']=[lasso.score(X_train, y_train),lasso.score(X_test,y_test)]"
      ]
    },
    {
      "cell_type": "code",
      "execution_count": 36,
      "metadata": {
        "id": "lp0pskVPK5D_",
        "outputId": "e961dc52-6490-46ce-ef1a-526ca6c2a09f",
        "colab": {
          "base_uri": "https://localhost:8080/"
        }
      },
      "outputs": [
        {
          "output_type": "stream",
          "name": "stdout",
          "text": [
            "Cross-validation training scores (5-fold): [0.88550195 0.88070742 0.8838296  0.87773434 0.88518233]\n",
            "Mean cross-validation training score (5-fold): 0.883\n"
          ]
        }
      ],
      "source": [
        "# Cross Validation\n",
        "cv_scores = cross_val_score(lasso, X_train, y_train,cv = 5)\n",
        "print('Cross-validation training scores (5-fold):', cv_scores)\n",
        "print('Mean cross-validation training score (5-fold): {:.3f}'.format(np.mean(cv_scores)))\n",
        "cv_test_scores = cross_val_score(lasso, X_test, y_test,cv = 5)\n",
        "cv_s['Lasso']=[np.mean(cv_scores),np.mean(cv_test_scores)]"
      ]
    },
    {
      "cell_type": "markdown",
      "metadata": {
        "id": "35r6Os3yK5EA"
      },
      "source": [
        "#### Polynomial Regression"
      ]
    },
    {
      "cell_type": "code",
      "execution_count": 37,
      "metadata": {
        "id": "NG0GPqv1K5EA"
      },
      "outputs": [],
      "source": [
        "from sklearn.preprocessing import PolynomialFeatures"
      ]
    },
    {
      "cell_type": "code",
      "execution_count": 38,
      "metadata": {
        "id": "pvDdiFg-K5EA",
        "outputId": "10c54f61-1e05-44d5-f6c9-e01b3a5c756d",
        "colab": {
          "base_uri": "https://localhost:8080/"
        }
      },
      "outputs": [
        {
          "output_type": "stream",
          "name": "stdout",
          "text": [
            "Polynomial LinearRegression\n",
            "Train score: 0.9999999997747655\n",
            "Test score: 0.9999999997860216\n",
            "\n",
            "Polynomial Ridge Regression\n",
            "Train score: 0.9999999995868907\n",
            "Test score: 0.9999999996043937\n",
            "\n",
            "Polynomial Lasso Regression\n",
            "Train score: 0.9999579061772131\n",
            "Test score: 0.9999599315021154\n"
          ]
        },
        {
          "output_type": "stream",
          "name": "stderr",
          "text": [
            "/usr/local/lib/python3.7/dist-packages/sklearn/linear_model/_coordinate_descent.py:648: ConvergenceWarning: Objective did not converge. You might want to increase the number of iterations, check the scale of the features or consider increasing regularisation. Duality gap: 1.052e-01, tolerance: 5.032e-02\n",
            "  coef_, l1_reg, l2_reg, X, y, max_iter, tol, rng, random, positive\n"
          ]
        }
      ],
      "source": [
        "poly = PolynomialFeatures(degree=2)\n",
        "X_poly = poly.fit_transform(X)\n",
        "X_train_py, X_test_py, y_train, y_test = train_test_split(X_poly, y, test_size = 0.2, random_state = 20)\n",
        "\n",
        "linreg = LinearRegression()\n",
        "linreg.fit(X_train_py, y_train)\n",
        "print('Polynomial LinearRegression')\n",
        "print('Train score: {}'.format(linreg.score(X_train_py, y_train)))\n",
        "print('Test score: {}\\n'.format(linreg.score(X_test_py,y_test)))\n",
        "scores['Polynomial deg 2 LinearRegression']=[linreg.score(X_train_py, y_train),linreg.score(X_test_py,y_test)]\n",
        "\n",
        "linridge = Ridge()\n",
        "linridge.fit(X_train_py, y_train)\n",
        "print('Polynomial Ridge Regression')\n",
        "print('Train score: {}'.format(linridge.score(X_train_py, y_train)))\n",
        "print('Test score: {}\\n'.format(linridge.score(X_test_py,y_test)))\n",
        "scores['Polynomial deg 2 Ridge Regression']=[linridge.score(X_train_py, y_train),linridge.score(X_test_py,y_test)]\n",
        "\n",
        "linlasso = Lasso()\n",
        "linlasso.fit(X_train_py, y_train)\n",
        "print('Polynomial Lasso Regression')\n",
        "print('Train score: {}'.format(linlasso.score(X_train_py, y_train)))\n",
        "print('Test score: {}'.format(linlasso.score(X_test_py,y_test)))\n",
        "scores['Polynomial deg 2 Lasso Regression']=[linlasso.score(X_train_py, y_train),linlasso.score(X_test_py,y_test)]"
      ]
    },
    {
      "cell_type": "code",
      "execution_count": 39,
      "metadata": {
        "id": "qCwXhVo-K5EB",
        "outputId": "89c39eee-1a41-4acb-d079-956ef727f5b7",
        "colab": {
          "base_uri": "https://localhost:8080/"
        }
      },
      "outputs": [
        {
          "output_type": "stream",
          "name": "stdout",
          "text": [
            "Cross-validation training scores (5-fold): [1. 1. 1. 1. 1.]\n",
            "Mean cross-validation training score (5-fold): 1.000\n",
            "Cross-validation training scores (5-fold): [1. 1. 1. 1. 1.]\n",
            "Mean cross-validation training score (5-fold): 1.000\n"
          ]
        },
        {
          "output_type": "stream",
          "name": "stderr",
          "text": [
            "/usr/local/lib/python3.7/dist-packages/sklearn/linear_model/_coordinate_descent.py:648: ConvergenceWarning: Objective did not converge. You might want to increase the number of iterations, check the scale of the features or consider increasing regularisation. Duality gap: 8.381e-02, tolerance: 4.074e-02\n",
            "  coef_, l1_reg, l2_reg, X, y, max_iter, tol, rng, random, positive\n",
            "/usr/local/lib/python3.7/dist-packages/sklearn/linear_model/_coordinate_descent.py:648: ConvergenceWarning: Objective did not converge. You might want to increase the number of iterations, check the scale of the features or consider increasing regularisation. Duality gap: 8.366e-02, tolerance: 3.992e-02\n",
            "  coef_, l1_reg, l2_reg, X, y, max_iter, tol, rng, random, positive\n",
            "/usr/local/lib/python3.7/dist-packages/sklearn/linear_model/_coordinate_descent.py:648: ConvergenceWarning: Objective did not converge. You might want to increase the number of iterations, check the scale of the features or consider increasing regularisation. Duality gap: 9.308e-02, tolerance: 4.044e-02\n",
            "  coef_, l1_reg, l2_reg, X, y, max_iter, tol, rng, random, positive\n",
            "/usr/local/lib/python3.7/dist-packages/sklearn/linear_model/_coordinate_descent.py:648: ConvergenceWarning: Objective did not converge. You might want to increase the number of iterations, check the scale of the features or consider increasing regularisation. Duality gap: 8.286e-02, tolerance: 3.953e-02\n",
            "  coef_, l1_reg, l2_reg, X, y, max_iter, tol, rng, random, positive\n",
            "/usr/local/lib/python3.7/dist-packages/sklearn/linear_model/_coordinate_descent.py:648: ConvergenceWarning: Objective did not converge. You might want to increase the number of iterations, check the scale of the features or consider increasing regularisation. Duality gap: 8.392e-02, tolerance: 4.063e-02\n",
            "  coef_, l1_reg, l2_reg, X, y, max_iter, tol, rng, random, positive\n"
          ]
        },
        {
          "output_type": "stream",
          "name": "stdout",
          "text": [
            "Cross-validation training scores (5-fold): [0.99996004 0.99996169 0.99751692 0.99995845 0.99996278]\n",
            "Mean cross-validation training score (5-fold): 0.999\n"
          ]
        },
        {
          "output_type": "stream",
          "name": "stderr",
          "text": [
            "/usr/local/lib/python3.7/dist-packages/sklearn/linear_model/_coordinate_descent.py:648: ConvergenceWarning: Objective did not converge. You might want to increase the number of iterations, check the scale of the features or consider increasing regularisation. Duality gap: 2.257e-02, tolerance: 1.021e-02\n",
            "  coef_, l1_reg, l2_reg, X, y, max_iter, tol, rng, random, positive\n",
            "/usr/local/lib/python3.7/dist-packages/sklearn/linear_model/_coordinate_descent.py:648: ConvergenceWarning: Objective did not converge. You might want to increase the number of iterations, check the scale of the features or consider increasing regularisation. Duality gap: 2.241e-02, tolerance: 1.009e-02\n",
            "  coef_, l1_reg, l2_reg, X, y, max_iter, tol, rng, random, positive\n",
            "/usr/local/lib/python3.7/dist-packages/sklearn/linear_model/_coordinate_descent.py:648: ConvergenceWarning: Objective did not converge. You might want to increase the number of iterations, check the scale of the features or consider increasing regularisation. Duality gap: 2.255e-02, tolerance: 1.007e-02\n",
            "  coef_, l1_reg, l2_reg, X, y, max_iter, tol, rng, random, positive\n",
            "/usr/local/lib/python3.7/dist-packages/sklearn/linear_model/_coordinate_descent.py:648: ConvergenceWarning: Objective did not converge. You might want to increase the number of iterations, check the scale of the features or consider increasing regularisation. Duality gap: 2.259e-02, tolerance: 1.026e-02\n",
            "  coef_, l1_reg, l2_reg, X, y, max_iter, tol, rng, random, positive\n",
            "/usr/local/lib/python3.7/dist-packages/sklearn/linear_model/_coordinate_descent.py:648: ConvergenceWarning: Objective did not converge. You might want to increase the number of iterations, check the scale of the features or consider increasing regularisation. Duality gap: 2.285e-02, tolerance: 1.042e-02\n",
            "  coef_, l1_reg, l2_reg, X, y, max_iter, tol, rng, random, positive\n"
          ]
        }
      ],
      "source": [
        "# Cross Validation\n",
        "cv_scores = cross_val_score(linreg, X_train_py, y_train,cv = 5)\n",
        "print('Cross-validation training scores (5-fold):', cv_scores)\n",
        "print('Mean cross-validation training score (5-fold): {:.3f}'.format(np.mean(cv_scores)))\n",
        "cv_test_scores = cross_val_score(linreg, X_test_py, y_test,cv = 5)\n",
        "cv_s['Polynomial deg 2 LinearRegression']=[np.mean(cv_scores),np.mean(cv_test_scores)]\n",
        "\n",
        "cv_scores = cross_val_score(linridge, X_train_py, y_train,cv = 5)\n",
        "print('Cross-validation training scores (5-fold):', cv_scores)\n",
        "print('Mean cross-validation training score (5-fold): {:.3f}'.format(np.mean(cv_scores)))\n",
        "cv_test_scores = cross_val_score(linridge, X_test_py, y_test,cv = 5)\n",
        "cv_s['Polynomial deg 2 Ridge Regression']=[np.mean(cv_scores),np.mean(cv_test_scores)]\n",
        "\n",
        "cv_scores = cross_val_score(linlasso, X_train_py, y_train,cv = 5)\n",
        "print('Cross-validation training scores (5-fold):', cv_scores)\n",
        "print('Mean cross-validation training score (5-fold): {:.3f}'.format(np.mean(cv_scores)))\n",
        "cv_test_scores = cross_val_score(linlasso, X_test_py, y_test,cv = 5)\n",
        "cv_s['Polynomial deg 2 Lasso Regression']=[np.mean(cv_scores),np.mean(cv_test_scores)]"
      ]
    },
    {
      "cell_type": "markdown",
      "metadata": {
        "id": "rlvqiN90K5EC"
      },
      "source": [
        "#### SVR\n"
      ]
    },
    {
      "cell_type": "code",
      "execution_count": 40,
      "metadata": {
        "id": "QGF-ArfWK5EC",
        "outputId": "4c5da264-3fef-433c-e40e-c9e7dd8e6cb8",
        "colab": {
          "base_uri": "https://localhost:8080/"
        }
      },
      "outputs": [
        {
          "output_type": "stream",
          "name": "stdout",
          "text": [
            "Train score: 0.9208723094225781\n",
            "Test score: 0.9210268084635844\n",
            "\n"
          ]
        }
      ],
      "source": [
        "from sklearn.svm import SVR\n",
        "# SVM, with kernel: (linear)\n",
        "svr = SVR(kernel = 'linear')\n",
        "svr.fit(X_train, y_train)\n",
        "print('Train score: {}'.format(svr.score(X_train, y_train)))\n",
        "print('Test score: {}\\n'.format(svr.score(X_test,y_test)))\n",
        "scores['SVM']=[svr.score(X_train, y_train),svr.score(X_test,y_test)]"
      ]
    },
    {
      "cell_type": "code",
      "execution_count": 41,
      "metadata": {
        "id": "Z5PJDp-ZK5EC",
        "outputId": "be9fc18b-9f9d-4ae1-a6d6-cc7bca2efc74",
        "colab": {
          "base_uri": "https://localhost:8080/"
        }
      },
      "outputs": [
        {
          "output_type": "stream",
          "name": "stdout",
          "text": [
            "Cross-validation training scores (5-fold): [0.92278914 0.9214023  0.91246497 0.92677804 0.91591087]\n",
            "Mean cross-validation training score (5-fold): 0.920\n"
          ]
        }
      ],
      "source": [
        "cv_scores = cross_val_score(svr, X_train, y_train,cv = 5)\n",
        "print('Cross-validation training scores (5-fold):', cv_scores)\n",
        "print('Mean cross-validation training score (5-fold): {:.3f}'.format(np.mean(cv_scores)))\n",
        "cv_test_scores = cross_val_score(svr, X_test, y_test,cv = 5)\n",
        "cv_s['SVM']=[np.mean(cv_scores),np.mean(cv_test_scores)]"
      ]
    },
    {
      "cell_type": "code",
      "execution_count": 42,
      "metadata": {
        "id": "gnVrQrLFK5ED",
        "outputId": "037bad7e-223c-433f-9eda-0222d56d31cb",
        "colab": {
          "base_uri": "https://localhost:8080/"
        }
      },
      "outputs": [
        {
          "output_type": "stream",
          "name": "stdout",
          "text": [
            "Train score: 0.9999999999963937\n",
            "Test score: 0.9999999999963015\n",
            "\n"
          ]
        }
      ],
      "source": [
        "# SVR without kernel\n",
        "from sklearn.svm import LinearSVR\n",
        "lsvr = LinearSVR()\n",
        "lsvr.fit(X_train, y_train)\n",
        "print('Train score: {}'.format(lsvr.score(X_train, y_train)))\n",
        "print('Test score: {}\\n'.format(lsvr.score(X_test,y_test)))\n",
        "scores['SVM without kernel']=[lsvr.score(X_train, y_train),lsvr.score(X_test,y_test)]"
      ]
    },
    {
      "cell_type": "code",
      "execution_count": 43,
      "metadata": {
        "id": "vWdRdkV9K5ED",
        "outputId": "550d0b55-c0e5-44da-a7ff-4b6f582791fd",
        "colab": {
          "base_uri": "https://localhost:8080/"
        }
      },
      "outputs": [
        {
          "output_type": "stream",
          "name": "stderr",
          "text": [
            "/usr/local/lib/python3.7/dist-packages/sklearn/svm/_base.py:1208: ConvergenceWarning: Liblinear failed to converge, increase the number of iterations.\n",
            "  ConvergenceWarning,\n",
            "/usr/local/lib/python3.7/dist-packages/sklearn/svm/_base.py:1208: ConvergenceWarning: Liblinear failed to converge, increase the number of iterations.\n",
            "  ConvergenceWarning,\n",
            "/usr/local/lib/python3.7/dist-packages/sklearn/svm/_base.py:1208: ConvergenceWarning: Liblinear failed to converge, increase the number of iterations.\n",
            "  ConvergenceWarning,\n",
            "/usr/local/lib/python3.7/dist-packages/sklearn/svm/_base.py:1208: ConvergenceWarning: Liblinear failed to converge, increase the number of iterations.\n",
            "  ConvergenceWarning,\n",
            "/usr/local/lib/python3.7/dist-packages/sklearn/svm/_base.py:1208: ConvergenceWarning: Liblinear failed to converge, increase the number of iterations.\n",
            "  ConvergenceWarning,\n"
          ]
        },
        {
          "output_type": "stream",
          "name": "stdout",
          "text": [
            "Cross-validation training scores (5-fold): [1. 1. 1. 1. 1.]\n",
            "Mean cross-validation training score (5-fold): 1.000\n"
          ]
        },
        {
          "output_type": "stream",
          "name": "stderr",
          "text": [
            "/usr/local/lib/python3.7/dist-packages/sklearn/svm/_base.py:1208: ConvergenceWarning: Liblinear failed to converge, increase the number of iterations.\n",
            "  ConvergenceWarning,\n",
            "/usr/local/lib/python3.7/dist-packages/sklearn/svm/_base.py:1208: ConvergenceWarning: Liblinear failed to converge, increase the number of iterations.\n",
            "  ConvergenceWarning,\n",
            "/usr/local/lib/python3.7/dist-packages/sklearn/svm/_base.py:1208: ConvergenceWarning: Liblinear failed to converge, increase the number of iterations.\n",
            "  ConvergenceWarning,\n",
            "/usr/local/lib/python3.7/dist-packages/sklearn/svm/_base.py:1208: ConvergenceWarning: Liblinear failed to converge, increase the number of iterations.\n",
            "  ConvergenceWarning,\n",
            "/usr/local/lib/python3.7/dist-packages/sklearn/svm/_base.py:1208: ConvergenceWarning: Liblinear failed to converge, increase the number of iterations.\n",
            "  ConvergenceWarning,\n"
          ]
        }
      ],
      "source": [
        "# Cross Validation\n",
        "cv_scores = cross_val_score(lsvr, X_train, y_train,cv = 5)\n",
        "print('Cross-validation training scores (5-fold):', cv_scores)\n",
        "print('Mean cross-validation training score (5-fold): {:.3f}'.format(np.mean(cv_scores)))\n",
        "cv_test_scores = cross_val_score(lsvr, X_test, y_test,cv = 5)\n",
        "cv_s['SVM without kernel']=[np.mean(cv_scores),np.mean(cv_test_scores)]"
      ]
    },
    {
      "cell_type": "markdown",
      "metadata": {
        "id": "FoPJEp9vK5EE"
      },
      "source": [
        "#### Evaluation"
      ]
    },
    {
      "cell_type": "markdown",
      "metadata": {
        "id": "vAZ02dpfK5EE"
      },
      "source": [
        "I think the Polynomial deg 2 Lasso Regression is the best model."
      ]
    },
    {
      "cell_type": "markdown",
      "metadata": {
        "id": "jBnJhNeLK5EF"
      },
      "source": [
        ""
      ]
    },
    {
      "cell_type": "code",
      "execution_count": 45,
      "metadata": {
        "id": "bTc3ybRSK5EG",
        "colab": {
          "base_uri": "https://localhost:8080/"
        },
        "outputId": "f358f16c-b540-4cc6-b70b-c9090683cd40"
      },
      "outputs": [
        {
          "output_type": "stream",
          "name": "stdout",
          "text": [
            "Train score: 0.9629451890669392\n",
            "Test score: 0.964017834893921\n",
            "\n"
          ]
        }
      ],
      "source": [
        "from sklearn.svm import SVR\n",
        "# SVM, with kernel: (linear)\n",
        "svr = SVR(kernel = 'poly' , degree =4 )\n",
        "svr.fit(X_train, y_train)\n",
        "print('Train score: {}'.format(svr.score(X_train, y_train)))\n",
        "print('Test score: {}\\n'.format(svr.score(X_test,y_test)))\n",
        "scores['SVR _poly ']=[svr.score(X_train, y_train),svr.score(X_test,y_test)]\n",
        "\n",
        "\n",
        "### poly ,  degree= 3  : 96% \n",
        "###  linear = 95% \n",
        "### degree =4: 97% "
      ]
    },
    {
      "cell_type": "code",
      "source": [
        "from sklearn.svm import SVR\n",
        "# SVM, with kernel: (linear)\n",
        "svr = SVR(kernel = 'poly' , degree =3 )\n",
        "svr.fit(X_train, y_train)\n",
        "print('Train score: {}'.format(svr.score(X_train, y_train)))\n",
        "print('Test score: {}\\n'.format(svr.score(X_test,y_test)))\n",
        "scores['SVR _poly ']=[svr.score(X_train, y_train),svr.score(X_test,y_test)]\n",
        "\n",
        "\n",
        "### poly ,  degree= 3  : 96% \n",
        "###  linear = 95% \n",
        "### degree =4: 97% "
      ],
      "metadata": {
        "colab": {
          "base_uri": "https://localhost:8080/"
        },
        "id": "rIHvP9heS1V0",
        "outputId": "44fe1480-d802-47cb-980c-f8469471ae33"
      },
      "execution_count": 48,
      "outputs": [
        {
          "output_type": "stream",
          "name": "stdout",
          "text": [
            "Train score: 0.9578398896407103\n",
            "Test score: 0.9594609195926375\n",
            "\n"
          ]
        }
      ]
    },
    {
      "cell_type": "code",
      "execution_count": 51,
      "metadata": {
        "id": "pIpyX4l5K5EG",
        "colab": {
          "base_uri": "https://localhost:8080/"
        },
        "outputId": "0a892eaa-d9e2-409a-db8c-d9b24703881a"
      },
      "outputs": [
        {
          "output_type": "stream",
          "name": "stdout",
          "text": [
            "Train score: 0.9797568234370745\n",
            "Test score: 0.980224989513568\n",
            "\n"
          ]
        }
      ],
      "source": [
        "from sklearn.svm import SVR\n",
        "# SVM, with kernel: (linear)\n",
        "svr = SVR(kernel = 'rbf' )\n",
        "svr.fit(X_train, y_train)\n",
        "print('Train score: {}'.format(svr.score(X_train, y_train)))\n",
        "print('Test score: {}\\n'.format(svr.score(X_test,y_test)))\n",
        "scores['SVR _poly ']=[svr.score(X_train, y_train),svr.score(X_test,y_test)]\n",
        "\n",
        "\n",
        "### poly ,  degree= 3  : 96% \n",
        "###  linear = 95% \n",
        "### degree =4: 97% "
      ]
    },
    {
      "cell_type": "code",
      "execution_count": 52,
      "metadata": {
        "scrolled": true,
        "id": "ataT31t9K5EE",
        "outputId": "91dfeb93-57e8-4a96-b771-35b3cd50c69f",
        "colab": {
          "base_uri": "https://localhost:8080/",
          "height": 376
        }
      },
      "outputs": [
        {
          "output_type": "execute_result",
          "data": {
            "text/html": [
              "\n",
              "  <div id=\"df-9fb6ecc6-eef6-4409-a569-5b82eee6ae9e\">\n",
              "    <div class=\"colab-df-container\">\n",
              "      <div>\n",
              "<style scoped>\n",
              "    .dataframe tbody tr th:only-of-type {\n",
              "        vertical-align: middle;\n",
              "    }\n",
              "\n",
              "    .dataframe tbody tr th {\n",
              "        vertical-align: top;\n",
              "    }\n",
              "\n",
              "    .dataframe thead th {\n",
              "        text-align: right;\n",
              "    }\n",
              "</style>\n",
              "<table border=\"1\" class=\"dataframe\">\n",
              "  <thead>\n",
              "    <tr style=\"text-align: right;\">\n",
              "      <th></th>\n",
              "      <th>Train Score</th>\n",
              "      <th>Test Score</th>\n",
              "      <th>(Cross_Validation_Train_Score,)</th>\n",
              "      <th>(Cross_Validation_Test_Score,)</th>\n",
              "    </tr>\n",
              "  </thead>\n",
              "  <tbody>\n",
              "    <tr>\n",
              "      <th>K-neighbors regression</th>\n",
              "      <td>0.999469</td>\n",
              "      <td>0.998941</td>\n",
              "      <td>0.998766</td>\n",
              "      <td>0.997160</td>\n",
              "    </tr>\n",
              "    <tr>\n",
              "      <th>LinearRegression</th>\n",
              "      <td>1.000000</td>\n",
              "      <td>1.000000</td>\n",
              "      <td>1.000000</td>\n",
              "      <td>1.000000</td>\n",
              "    </tr>\n",
              "    <tr>\n",
              "      <th>Ridge</th>\n",
              "      <td>1.000000</td>\n",
              "      <td>1.000000</td>\n",
              "      <td>1.000000</td>\n",
              "      <td>1.000000</td>\n",
              "    </tr>\n",
              "    <tr>\n",
              "      <th>Lasso</th>\n",
              "      <td>0.882809</td>\n",
              "      <td>0.882588</td>\n",
              "      <td>0.882591</td>\n",
              "      <td>0.885762</td>\n",
              "    </tr>\n",
              "    <tr>\n",
              "      <th>Polynomial deg 2 LinearRegression</th>\n",
              "      <td>1.000000</td>\n",
              "      <td>1.000000</td>\n",
              "      <td>1.000000</td>\n",
              "      <td>1.000000</td>\n",
              "    </tr>\n",
              "    <tr>\n",
              "      <th>Polynomial deg 2 Ridge Regression</th>\n",
              "      <td>1.000000</td>\n",
              "      <td>1.000000</td>\n",
              "      <td>1.000000</td>\n",
              "      <td>1.000000</td>\n",
              "    </tr>\n",
              "    <tr>\n",
              "      <th>Polynomial deg 2 Lasso Regression</th>\n",
              "      <td>0.999958</td>\n",
              "      <td>0.999960</td>\n",
              "      <td>0.999472</td>\n",
              "      <td>0.999897</td>\n",
              "    </tr>\n",
              "    <tr>\n",
              "      <th>SVM</th>\n",
              "      <td>0.962945</td>\n",
              "      <td>0.964018</td>\n",
              "      <td>0.919869</td>\n",
              "      <td>0.912932</td>\n",
              "    </tr>\n",
              "    <tr>\n",
              "      <th>SVM without kernel</th>\n",
              "      <td>1.000000</td>\n",
              "      <td>1.000000</td>\n",
              "      <td>1.000000</td>\n",
              "      <td>1.000000</td>\n",
              "    </tr>\n",
              "  </tbody>\n",
              "</table>\n",
              "</div>\n",
              "      <button class=\"colab-df-convert\" onclick=\"convertToInteractive('df-9fb6ecc6-eef6-4409-a569-5b82eee6ae9e')\"\n",
              "              title=\"Convert this dataframe to an interactive table.\"\n",
              "              style=\"display:none;\">\n",
              "        \n",
              "  <svg xmlns=\"http://www.w3.org/2000/svg\" height=\"24px\"viewBox=\"0 0 24 24\"\n",
              "       width=\"24px\">\n",
              "    <path d=\"M0 0h24v24H0V0z\" fill=\"none\"/>\n",
              "    <path d=\"M18.56 5.44l.94 2.06.94-2.06 2.06-.94-2.06-.94-.94-2.06-.94 2.06-2.06.94zm-11 1L8.5 8.5l.94-2.06 2.06-.94-2.06-.94L8.5 2.5l-.94 2.06-2.06.94zm10 10l.94 2.06.94-2.06 2.06-.94-2.06-.94-.94-2.06-.94 2.06-2.06.94z\"/><path d=\"M17.41 7.96l-1.37-1.37c-.4-.4-.92-.59-1.43-.59-.52 0-1.04.2-1.43.59L10.3 9.45l-7.72 7.72c-.78.78-.78 2.05 0 2.83L4 21.41c.39.39.9.59 1.41.59.51 0 1.02-.2 1.41-.59l7.78-7.78 2.81-2.81c.8-.78.8-2.07 0-2.86zM5.41 20L4 18.59l7.72-7.72 1.47 1.35L5.41 20z\"/>\n",
              "  </svg>\n",
              "      </button>\n",
              "      \n",
              "  <style>\n",
              "    .colab-df-container {\n",
              "      display:flex;\n",
              "      flex-wrap:wrap;\n",
              "      gap: 12px;\n",
              "    }\n",
              "\n",
              "    .colab-df-convert {\n",
              "      background-color: #E8F0FE;\n",
              "      border: none;\n",
              "      border-radius: 50%;\n",
              "      cursor: pointer;\n",
              "      display: none;\n",
              "      fill: #1967D2;\n",
              "      height: 32px;\n",
              "      padding: 0 0 0 0;\n",
              "      width: 32px;\n",
              "    }\n",
              "\n",
              "    .colab-df-convert:hover {\n",
              "      background-color: #E2EBFA;\n",
              "      box-shadow: 0px 1px 2px rgba(60, 64, 67, 0.3), 0px 1px 3px 1px rgba(60, 64, 67, 0.15);\n",
              "      fill: #174EA6;\n",
              "    }\n",
              "\n",
              "    [theme=dark] .colab-df-convert {\n",
              "      background-color: #3B4455;\n",
              "      fill: #D2E3FC;\n",
              "    }\n",
              "\n",
              "    [theme=dark] .colab-df-convert:hover {\n",
              "      background-color: #434B5C;\n",
              "      box-shadow: 0px 1px 3px 1px rgba(0, 0, 0, 0.15);\n",
              "      filter: drop-shadow(0px 1px 2px rgba(0, 0, 0, 0.3));\n",
              "      fill: #FFFFFF;\n",
              "    }\n",
              "  </style>\n",
              "\n",
              "      <script>\n",
              "        const buttonEl =\n",
              "          document.querySelector('#df-9fb6ecc6-eef6-4409-a569-5b82eee6ae9e button.colab-df-convert');\n",
              "        buttonEl.style.display =\n",
              "          google.colab.kernel.accessAllowed ? 'block' : 'none';\n",
              "\n",
              "        async function convertToInteractive(key) {\n",
              "          const element = document.querySelector('#df-9fb6ecc6-eef6-4409-a569-5b82eee6ae9e');\n",
              "          const dataTable =\n",
              "            await google.colab.kernel.invokeFunction('convertToInteractive',\n",
              "                                                     [key], {});\n",
              "          if (!dataTable) return;\n",
              "\n",
              "          const docLinkHtml = 'Like what you see? Visit the ' +\n",
              "            '<a target=\"_blank\" href=https://colab.research.google.com/notebooks/data_table.ipynb>data table notebook</a>'\n",
              "            + ' to learn more about interactive tables.';\n",
              "          element.innerHTML = '';\n",
              "          dataTable['output_type'] = 'display_data';\n",
              "          await google.colab.output.renderOutput(dataTable, element);\n",
              "          const docLink = document.createElement('div');\n",
              "          docLink.innerHTML = docLinkHtml;\n",
              "          element.appendChild(docLink);\n",
              "        }\n",
              "      </script>\n",
              "    </div>\n",
              "  </div>\n",
              "  "
            ],
            "text/plain": [
              "                                   Train Score  ...  (Cross_Validation_Test_Score,)\n",
              "K-neighbors regression                0.999469  ...                        0.997160\n",
              "LinearRegression                      1.000000  ...                        1.000000\n",
              "Ridge                                 1.000000  ...                        1.000000\n",
              "Lasso                                 0.882809  ...                        0.885762\n",
              "Polynomial deg 2 LinearRegression     1.000000  ...                        1.000000\n",
              "Polynomial deg 2 Ridge Regression     1.000000  ...                        1.000000\n",
              "Polynomial deg 2 Lasso Regression     0.999958  ...                        0.999897\n",
              "SVM                                   0.962945  ...                        0.912932\n",
              "SVM without kernel                    1.000000  ...                        1.000000\n",
              "\n",
              "[9 rows x 4 columns]"
            ]
          },
          "metadata": {},
          "execution_count": 52
        }
      ],
      "source": [
        "df = pd.DataFrame(scores).T\n",
        "df.columns = ['Train Score','Test Score']\n",
        "df = pd.concat([df,pd.DataFrame(cv_s,index = [['Cross_Validation_Train_Score','Cross_Validation_Test_Score']]).T],axis=1, join='inner')\n",
        "df"
      ]
    },
    {
      "cell_type": "code",
      "source": [
        ""
      ],
      "metadata": {
        "id": "1APY55mGS851"
      },
      "execution_count": null,
      "outputs": []
    }
  ],
  "metadata": {
    "kernelspec": {
      "display_name": "Python 3",
      "language": "python",
      "name": "python3"
    },
    "language_info": {
      "codemirror_mode": {
        "name": "ipython",
        "version": 3
      },
      "file_extension": ".py",
      "mimetype": "text/x-python",
      "name": "python",
      "nbconvert_exporter": "python",
      "pygments_lexer": "ipython3",
      "version": "3.8.3"
    },
    "colab": {
      "name": "5 years ml 2 .ipynb",
      "provenance": [],
      "collapsed_sections": []
    }
  },
  "nbformat": 4,
  "nbformat_minor": 0
}